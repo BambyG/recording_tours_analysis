{
 "cells": [
  {
   "cell_type": "markdown",
   "metadata": {},
   "source": [
    "# Recording tours analysis\n",
    "\n",
    "\n",
    "For this challenge, we are interested in finding out **how much people enjoy recording Tours in komoot—and to what extent they want to continue doing so**. \n",
    "\n",
    "We suspect that this data will vary as a result of time because we have worked continously in the past trying on improving this feature. We also asume that the success of our recording feature varies across countries.\n",
    "\n",
    "Please analyze the data we prepared for you and **calculate and interpret country-specific retention rates over time**.\n",
    "\n",
    "You are free to use the language and tools of your choice. Summarize your findings and send them to us via email. \n",
    "\n",
    "Also, please explain how you approached this challenge and attach any code or notebooks you used. We want to see how you identified your findings, so please keep your submission as transparent as possible.\n"
   ]
  },
  {
   "cell_type": "markdown",
   "metadata": {},
   "source": [
    "## Data preparation & EDA (Explanatory Data Analysis)\n",
    "\n",
    "**Importing Librairies**"
   ]
  },
  {
   "cell_type": "code",
   "execution_count": 1,
   "metadata": {
    "collapsed": true
   },
   "outputs": [],
   "source": [
    "import pandas as pd\n",
    "import numpy as np \n",
    "import seaborn as sns\n",
    "import matplotlib.pyplot as plt\n",
    "import reverse_geocoder as rg\n",
    "%matplotlib inline "
   ]
  },
  {
   "cell_type": "markdown",
   "metadata": {},
   "source": [
    "**Reading and printing the first 5 rows of the data using Pandas**"
   ]
  },
  {
   "cell_type": "code",
   "execution_count": 2,
   "metadata": {},
   "outputs": [
    {
     "data": {
      "text/html": [
       "<div>\n",
       "<style scoped>\n",
       "    .dataframe tbody tr th:only-of-type {\n",
       "        vertical-align: middle;\n",
       "    }\n",
       "\n",
       "    .dataframe tbody tr th {\n",
       "        vertical-align: top;\n",
       "    }\n",
       "\n",
       "    .dataframe thead th {\n",
       "        text-align: right;\n",
       "    }\n",
       "</style>\n",
       "<table border=\"1\" class=\"dataframe\">\n",
       "  <thead>\n",
       "    <tr style=\"text-align: right;\">\n",
       "      <th></th>\n",
       "      <th>timestamp</th>\n",
       "      <th>user</th>\n",
       "      <th>sport</th>\n",
       "      <th>longitude</th>\n",
       "      <th>latitude</th>\n",
       "    </tr>\n",
       "  </thead>\n",
       "  <tbody>\n",
       "    <tr>\n",
       "      <th>0</th>\n",
       "      <td>2016-05-29 06:00:00</td>\n",
       "      <td>51663fe728afd0c03701845329190f7fe93c3a8ab2ff56...</td>\n",
       "      <td>hike</td>\n",
       "      <td>16.1</td>\n",
       "      <td>47.7</td>\n",
       "    </tr>\n",
       "    <tr>\n",
       "      <th>1</th>\n",
       "      <td>2016-08-15 19:00:00</td>\n",
       "      <td>08f0a9cb02168dce9544c7ce237eb2a291901a048bad24...</td>\n",
       "      <td>hike</td>\n",
       "      <td>12.0</td>\n",
       "      <td>47.7</td>\n",
       "    </tr>\n",
       "    <tr>\n",
       "      <th>2</th>\n",
       "      <td>2016-05-14 19:00:00</td>\n",
       "      <td>0762522db4b59efa5a11a535c88477d6c7a63972febdda...</td>\n",
       "      <td>hike</td>\n",
       "      <td>9.4</td>\n",
       "      <td>51.8</td>\n",
       "    </tr>\n",
       "    <tr>\n",
       "      <th>3</th>\n",
       "      <td>2017-06-12 20:00:00</td>\n",
       "      <td>70cc307f4148283217dadfcbff54eb9e7d7a944a0b57f6...</td>\n",
       "      <td>touringbicycle</td>\n",
       "      <td>7.8</td>\n",
       "      <td>48.0</td>\n",
       "    </tr>\n",
       "    <tr>\n",
       "      <th>4</th>\n",
       "      <td>2014-05-25 09:00:00</td>\n",
       "      <td>c1fc1e63e5e3875538ca23351954ed39405ec27b0c15bb...</td>\n",
       "      <td>mtb</td>\n",
       "      <td>6.8</td>\n",
       "      <td>50.6</td>\n",
       "    </tr>\n",
       "  </tbody>\n",
       "</table>\n",
       "</div>"
      ],
      "text/plain": [
       "             timestamp                                               user  \\\n",
       "0  2016-05-29 06:00:00  51663fe728afd0c03701845329190f7fe93c3a8ab2ff56...   \n",
       "1  2016-08-15 19:00:00  08f0a9cb02168dce9544c7ce237eb2a291901a048bad24...   \n",
       "2  2016-05-14 19:00:00  0762522db4b59efa5a11a535c88477d6c7a63972febdda...   \n",
       "3  2017-06-12 20:00:00  70cc307f4148283217dadfcbff54eb9e7d7a944a0b57f6...   \n",
       "4  2014-05-25 09:00:00  c1fc1e63e5e3875538ca23351954ed39405ec27b0c15bb...   \n",
       "\n",
       "            sport  longitude  latitude  \n",
       "0            hike       16.1      47.7  \n",
       "1            hike       12.0      47.7  \n",
       "2            hike        9.4      51.8  \n",
       "3  touringbicycle        7.8      48.0  \n",
       "4             mtb        6.8      50.6  "
      ]
     },
     "execution_count": 2,
     "metadata": {},
     "output_type": "execute_result"
    }
   ],
   "source": [
    "df = pd.read_csv('tour-events.csv')\n",
    "df.head()"
   ]
  },
  {
   "cell_type": "markdown",
   "metadata": {},
   "source": [
    "**Overall statitics about the data**"
   ]
  },
  {
   "cell_type": "code",
   "execution_count": 3,
   "metadata": {},
   "outputs": [
    {
     "data": {
      "text/html": [
       "<div>\n",
       "<style scoped>\n",
       "    .dataframe tbody tr th:only-of-type {\n",
       "        vertical-align: middle;\n",
       "    }\n",
       "\n",
       "    .dataframe tbody tr th {\n",
       "        vertical-align: top;\n",
       "    }\n",
       "\n",
       "    .dataframe thead th {\n",
       "        text-align: right;\n",
       "    }\n",
       "</style>\n",
       "<table border=\"1\" class=\"dataframe\">\n",
       "  <thead>\n",
       "    <tr style=\"text-align: right;\">\n",
       "      <th></th>\n",
       "      <th>longitude</th>\n",
       "      <th>latitude</th>\n",
       "    </tr>\n",
       "  </thead>\n",
       "  <tbody>\n",
       "    <tr>\n",
       "      <th>count</th>\n",
       "      <td>676380.000000</td>\n",
       "      <td>676380.000000</td>\n",
       "    </tr>\n",
       "    <tr>\n",
       "      <th>mean</th>\n",
       "      <td>8.602698</td>\n",
       "      <td>49.398039</td>\n",
       "    </tr>\n",
       "    <tr>\n",
       "      <th>std</th>\n",
       "      <td>14.639131</td>\n",
       "      <td>5.410601</td>\n",
       "    </tr>\n",
       "    <tr>\n",
       "      <th>min</th>\n",
       "      <td>-170.900000</td>\n",
       "      <td>-55.000000</td>\n",
       "    </tr>\n",
       "    <tr>\n",
       "      <th>25%</th>\n",
       "      <td>7.800000</td>\n",
       "      <td>48.200000</td>\n",
       "    </tr>\n",
       "    <tr>\n",
       "      <th>50%</th>\n",
       "      <td>9.300000</td>\n",
       "      <td>50.100000</td>\n",
       "    </tr>\n",
       "    <tr>\n",
       "      <th>75%</th>\n",
       "      <td>11.500000</td>\n",
       "      <td>51.600000</td>\n",
       "    </tr>\n",
       "    <tr>\n",
       "      <th>max</th>\n",
       "      <td>178.100000</td>\n",
       "      <td>71.200000</td>\n",
       "    </tr>\n",
       "  </tbody>\n",
       "</table>\n",
       "</div>"
      ],
      "text/plain": [
       "           longitude       latitude\n",
       "count  676380.000000  676380.000000\n",
       "mean        8.602698      49.398039\n",
       "std        14.639131       5.410601\n",
       "min      -170.900000     -55.000000\n",
       "25%         7.800000      48.200000\n",
       "50%         9.300000      50.100000\n",
       "75%        11.500000      51.600000\n",
       "max       178.100000      71.200000"
      ]
     },
     "execution_count": 3,
     "metadata": {},
     "output_type": "execute_result"
    }
   ],
   "source": [
    "df.describe()"
   ]
  },
  {
   "cell_type": "markdown",
   "metadata": {},
   "source": [
    "**Checking and handling null values**\n",
    "\n",
    "As you can see below the dataframe holds some null values present in in longitude and latitude variable. The null values are representing only 0,047% of the entire dataframe, and also it wouldn't make sense to replace theme the median, mode or mean of their respective variable, I then decide to delete them. I am also checking if the data has any duplicate values that could impact the analysis. "
   ]
  },
  {
   "cell_type": "code",
   "execution_count": 4,
   "metadata": {},
   "outputs": [
    {
     "data": {
      "text/plain": [
       "timestamp      0\n",
       "user           0\n",
       "sport          0\n",
       "longitude    321\n",
       "latitude     321\n",
       "dtype: int64"
      ]
     },
     "execution_count": 4,
     "metadata": {},
     "output_type": "execute_result"
    }
   ],
   "source": [
    "df.isnull().sum() #checking of there are null values in the dataset"
   ]
  },
  {
   "cell_type": "code",
   "execution_count": 5,
   "metadata": {
    "collapsed": true
   },
   "outputs": [],
   "source": [
    "df.dropna(inplace = True) #droping rows with null values, 321 in total. "
   ]
  },
  {
   "cell_type": "code",
   "execution_count": 6,
   "metadata": {},
   "outputs": [
    {
     "name": "stdout",
     "output_type": "stream",
     "text": [
      "<class 'pandas.core.frame.DataFrame'>\n",
      "Int64Index: 669958 entries, 0 to 676700\n",
      "Data columns (total 5 columns):\n",
      "timestamp    669958 non-null object\n",
      "user         669958 non-null object\n",
      "sport        669958 non-null object\n",
      "longitude    669958 non-null float64\n",
      "latitude     669958 non-null float64\n",
      "dtypes: float64(2), object(3)\n",
      "memory usage: 30.7+ MB\n"
     ]
    }
   ],
   "source": [
    "df.drop_duplicates().info() #CHECKING if there are duplicate values "
   ]
  },
  {
   "cell_type": "markdown",
   "metadata": {},
   "source": [
    "**Creating the country variable from the latitude and longitude provided**"
   ]
  },
  {
   "cell_type": "code",
   "execution_count": 7,
   "metadata": {},
   "outputs": [
    {
     "name": "stdout",
     "output_type": "stream",
     "text": [
      "Loading formatted geocoded file...\n"
     ]
    },
    {
     "data": {
      "text/html": [
       "<div>\n",
       "<style scoped>\n",
       "    .dataframe tbody tr th:only-of-type {\n",
       "        vertical-align: middle;\n",
       "    }\n",
       "\n",
       "    .dataframe tbody tr th {\n",
       "        vertical-align: top;\n",
       "    }\n",
       "\n",
       "    .dataframe thead th {\n",
       "        text-align: right;\n",
       "    }\n",
       "</style>\n",
       "<table border=\"1\" class=\"dataframe\">\n",
       "  <thead>\n",
       "    <tr style=\"text-align: right;\">\n",
       "      <th></th>\n",
       "      <th>lat</th>\n",
       "      <th>lon</th>\n",
       "      <th>name</th>\n",
       "      <th>admin1</th>\n",
       "      <th>admin2</th>\n",
       "      <th>cc</th>\n",
       "    </tr>\n",
       "  </thead>\n",
       "  <tbody>\n",
       "    <tr>\n",
       "      <th>676370</th>\n",
       "      <td>49.9</td>\n",
       "      <td>6.61667</td>\n",
       "      <td>Hosten</td>\n",
       "      <td>Rheinland-Pfalz</td>\n",
       "      <td></td>\n",
       "      <td>DE</td>\n",
       "    </tr>\n",
       "    <tr>\n",
       "      <th>676371</th>\n",
       "      <td>47.9</td>\n",
       "      <td>9.51667</td>\n",
       "      <td>Ebenweiler</td>\n",
       "      <td>Baden-Wuerttemberg</td>\n",
       "      <td>Tuebingen Region</td>\n",
       "      <td>DE</td>\n",
       "    </tr>\n",
       "    <tr>\n",
       "      <th>676372</th>\n",
       "      <td>44.99467</td>\n",
       "      <td>9.00862</td>\n",
       "      <td>Voghera</td>\n",
       "      <td>Lombardy</td>\n",
       "      <td>Provincia di Pavia</td>\n",
       "      <td>IT</td>\n",
       "    </tr>\n",
       "    <tr>\n",
       "      <th>676373</th>\n",
       "      <td>47.39218</td>\n",
       "      <td>8.00503</td>\n",
       "      <td>Niedererlinsbach</td>\n",
       "      <td>Solothurn</td>\n",
       "      <td>Bezirk Goesgen</td>\n",
       "      <td>CH</td>\n",
       "    </tr>\n",
       "    <tr>\n",
       "      <th>676374</th>\n",
       "      <td>52.49005</td>\n",
       "      <td>13.29602</td>\n",
       "      <td>Halensee</td>\n",
       "      <td>Berlin</td>\n",
       "      <td></td>\n",
       "      <td>DE</td>\n",
       "    </tr>\n",
       "    <tr>\n",
       "      <th>676375</th>\n",
       "      <td>48.69406</td>\n",
       "      <td>9.16809</td>\n",
       "      <td>Leinfelden-Echterdingen</td>\n",
       "      <td>Baden-Wuerttemberg</td>\n",
       "      <td>Regierungsbezirk Stuttgart</td>\n",
       "      <td>DE</td>\n",
       "    </tr>\n",
       "    <tr>\n",
       "      <th>676376</th>\n",
       "      <td>51.09162</td>\n",
       "      <td>6.89217</td>\n",
       "      <td>Monheim am Rhein</td>\n",
       "      <td>North Rhine-Westphalia</td>\n",
       "      <td></td>\n",
       "      <td>DE</td>\n",
       "    </tr>\n",
       "    <tr>\n",
       "      <th>676377</th>\n",
       "      <td>50.49372</td>\n",
       "      <td>6.62896</td>\n",
       "      <td>Nettersheim</td>\n",
       "      <td>North Rhine-Westphalia</td>\n",
       "      <td>Regierungsbezirk Koln</td>\n",
       "      <td>DE</td>\n",
       "    </tr>\n",
       "    <tr>\n",
       "      <th>676378</th>\n",
       "      <td>48.68569</td>\n",
       "      <td>8.18876</td>\n",
       "      <td>Buhlertal</td>\n",
       "      <td>Baden-Wuerttemberg</td>\n",
       "      <td>Karlsruhe Region</td>\n",
       "      <td>DE</td>\n",
       "    </tr>\n",
       "    <tr>\n",
       "      <th>676379</th>\n",
       "      <td>51.31667</td>\n",
       "      <td>9.5</td>\n",
       "      <td>Kassel</td>\n",
       "      <td>Hesse</td>\n",
       "      <td>Regierungsbezirk Kassel</td>\n",
       "      <td>DE</td>\n",
       "    </tr>\n",
       "  </tbody>\n",
       "</table>\n",
       "</div>"
      ],
      "text/plain": [
       "             lat       lon                     name                  admin1  \\\n",
       "676370      49.9   6.61667                   Hosten         Rheinland-Pfalz   \n",
       "676371      47.9   9.51667               Ebenweiler      Baden-Wuerttemberg   \n",
       "676372  44.99467   9.00862                  Voghera                Lombardy   \n",
       "676373  47.39218   8.00503         Niedererlinsbach               Solothurn   \n",
       "676374  52.49005  13.29602                 Halensee                  Berlin   \n",
       "676375  48.69406   9.16809  Leinfelden-Echterdingen      Baden-Wuerttemberg   \n",
       "676376  51.09162   6.89217         Monheim am Rhein  North Rhine-Westphalia   \n",
       "676377  50.49372   6.62896              Nettersheim  North Rhine-Westphalia   \n",
       "676378  48.68569   8.18876                Buhlertal      Baden-Wuerttemberg   \n",
       "676379  51.31667       9.5                   Kassel                   Hesse   \n",
       "\n",
       "                            admin2  cc  \n",
       "676370                              DE  \n",
       "676371            Tuebingen Region  DE  \n",
       "676372          Provincia di Pavia  IT  \n",
       "676373              Bezirk Goesgen  CH  \n",
       "676374                              DE  \n",
       "676375  Regierungsbezirk Stuttgart  DE  \n",
       "676376                              DE  \n",
       "676377       Regierungsbezirk Koln  DE  \n",
       "676378            Karlsruhe Region  DE  \n",
       "676379     Regierungsbezirk Kassel  DE  "
      ]
     },
     "execution_count": 7,
     "metadata": {},
     "output_type": "execute_result"
    }
   ],
   "source": [
    "#put them into list and create tuples\n",
    "lat = df['latitude'].tolist()\n",
    "lon = df['longitude'].tolist()\n",
    "oo = tuple(zip(lat, lon))\n",
    "\n",
    "#search the coordinate using reverse_geocoder \n",
    "results = rg.search(oo,mode=1)\n",
    "\n",
    "#put the results into a new dataframe and print the tail\n",
    "ff = pd.DataFrame(results)\n",
    "ff.tail(10)"
   ]
  },
  {
   "cell_type": "code",
   "execution_count": 8,
   "metadata": {},
   "outputs": [
    {
     "data": {
      "text/plain": [
       "Index(['timestamp', 'user', 'sport', 'longitude', 'latitude', 'newind', 'lat',\n",
       "       'lon', 'name', 'admin1', 'admin2', 'cc'],\n",
       "      dtype='object')"
      ]
     },
     "execution_count": 8,
     "metadata": {},
     "output_type": "execute_result"
    }
   ],
   "source": [
    "#create a new index to ease the merge of the two dataframes ff and df \n",
    "newindex = list(range(0,676380))\n",
    "df['newind']= newindex\n",
    "ff['newind']= newindex\n",
    "\n",
    "#merge them \n",
    "dfin = pd.merge(left=df, right=ff, on='newind')\n",
    "\n",
    "#get the name of the colums\n",
    "dfin.columns"
   ]
  },
  {
   "cell_type": "code",
   "execution_count": 9,
   "metadata": {},
   "outputs": [
    {
     "data": {
      "text/html": [
       "<div>\n",
       "<style scoped>\n",
       "    .dataframe tbody tr th:only-of-type {\n",
       "        vertical-align: middle;\n",
       "    }\n",
       "\n",
       "    .dataframe tbody tr th {\n",
       "        vertical-align: top;\n",
       "    }\n",
       "\n",
       "    .dataframe thead th {\n",
       "        text-align: right;\n",
       "    }\n",
       "</style>\n",
       "<table border=\"1\" class=\"dataframe\">\n",
       "  <thead>\n",
       "    <tr style=\"text-align: right;\">\n",
       "      <th></th>\n",
       "      <th>timestamp</th>\n",
       "      <th>user</th>\n",
       "      <th>sport</th>\n",
       "      <th>longitude</th>\n",
       "      <th>latitude</th>\n",
       "      <th>name</th>\n",
       "      <th>admin1</th>\n",
       "      <th>admin2</th>\n",
       "      <th>cc</th>\n",
       "    </tr>\n",
       "  </thead>\n",
       "  <tbody>\n",
       "    <tr>\n",
       "      <th>0</th>\n",
       "      <td>2016-05-29 06:00:00</td>\n",
       "      <td>51663fe728afd0c03701845329190f7fe93c3a8ab2ff56...</td>\n",
       "      <td>hike</td>\n",
       "      <td>16.1</td>\n",
       "      <td>47.7</td>\n",
       "      <td>Wartmannstetten</td>\n",
       "      <td>Lower Austria</td>\n",
       "      <td>Politischer Bezirk Neunkirchen</td>\n",
       "      <td>AT</td>\n",
       "    </tr>\n",
       "    <tr>\n",
       "      <th>1</th>\n",
       "      <td>2016-08-15 19:00:00</td>\n",
       "      <td>08f0a9cb02168dce9544c7ce237eb2a291901a048bad24...</td>\n",
       "      <td>hike</td>\n",
       "      <td>12.0</td>\n",
       "      <td>47.7</td>\n",
       "      <td>Bayrischzell</td>\n",
       "      <td>Bavaria</td>\n",
       "      <td>Upper Bavaria</td>\n",
       "      <td>DE</td>\n",
       "    </tr>\n",
       "    <tr>\n",
       "      <th>2</th>\n",
       "      <td>2016-05-14 19:00:00</td>\n",
       "      <td>0762522db4b59efa5a11a535c88477d6c7a63972febdda...</td>\n",
       "      <td>hike</td>\n",
       "      <td>9.4</td>\n",
       "      <td>51.8</td>\n",
       "      <td>Hoexter</td>\n",
       "      <td>North Rhine-Westphalia</td>\n",
       "      <td>Regierungsbezirk Detmold</td>\n",
       "      <td>DE</td>\n",
       "    </tr>\n",
       "    <tr>\n",
       "      <th>3</th>\n",
       "      <td>2017-06-12 20:00:00</td>\n",
       "      <td>70cc307f4148283217dadfcbff54eb9e7d7a944a0b57f6...</td>\n",
       "      <td>touringbicycle</td>\n",
       "      <td>7.8</td>\n",
       "      <td>48.0</td>\n",
       "      <td>Umkirch</td>\n",
       "      <td>Baden-Wuerttemberg</td>\n",
       "      <td>Freiburg Region</td>\n",
       "      <td>DE</td>\n",
       "    </tr>\n",
       "    <tr>\n",
       "      <th>4</th>\n",
       "      <td>2014-05-25 09:00:00</td>\n",
       "      <td>c1fc1e63e5e3875538ca23351954ed39405ec27b0c15bb...</td>\n",
       "      <td>mtb</td>\n",
       "      <td>6.8</td>\n",
       "      <td>50.6</td>\n",
       "      <td>Bad Munstereifel</td>\n",
       "      <td>North Rhine-Westphalia</td>\n",
       "      <td>Regierungsbezirk Koln</td>\n",
       "      <td>DE</td>\n",
       "    </tr>\n",
       "  </tbody>\n",
       "</table>\n",
       "</div>"
      ],
      "text/plain": [
       "             timestamp                                               user  \\\n",
       "0  2016-05-29 06:00:00  51663fe728afd0c03701845329190f7fe93c3a8ab2ff56...   \n",
       "1  2016-08-15 19:00:00  08f0a9cb02168dce9544c7ce237eb2a291901a048bad24...   \n",
       "2  2016-05-14 19:00:00  0762522db4b59efa5a11a535c88477d6c7a63972febdda...   \n",
       "3  2017-06-12 20:00:00  70cc307f4148283217dadfcbff54eb9e7d7a944a0b57f6...   \n",
       "4  2014-05-25 09:00:00  c1fc1e63e5e3875538ca23351954ed39405ec27b0c15bb...   \n",
       "\n",
       "            sport  longitude  latitude              name  \\\n",
       "0            hike       16.1      47.7   Wartmannstetten   \n",
       "1            hike       12.0      47.7      Bayrischzell   \n",
       "2            hike        9.4      51.8           Hoexter   \n",
       "3  touringbicycle        7.8      48.0           Umkirch   \n",
       "4             mtb        6.8      50.6  Bad Munstereifel   \n",
       "\n",
       "                   admin1                          admin2  cc  \n",
       "0           Lower Austria  Politischer Bezirk Neunkirchen  AT  \n",
       "1                 Bavaria                   Upper Bavaria  DE  \n",
       "2  North Rhine-Westphalia        Regierungsbezirk Detmold  DE  \n",
       "3      Baden-Wuerttemberg                 Freiburg Region  DE  \n",
       "4  North Rhine-Westphalia           Regierungsbezirk Koln  DE  "
      ]
     },
     "execution_count": 9,
     "metadata": {},
     "output_type": "execute_result"
    }
   ],
   "source": [
    "#use the columns names list to filter and keep the ones I am interested in + print the head of the final df\n",
    "final_df = dfin[['timestamp', 'user', 'sport', 'longitude', 'latitude','name', 'admin1', 'admin2', 'cc']]\n",
    "final_df.head()"
   ]
  },
  {
   "cell_type": "markdown",
   "metadata": {},
   "source": [
    "**Data Standardisation**\n",
    "\n",
    "Now that I have the initial dataset with the country codes and other information that could be interesting for further analysis (city, state ...), I would like instead of the country code have the country names written in plain english. For example AT = Austria. By curiosity i am checking how many coutry code are we dealing with:  "
   ]
  },
  {
   "cell_type": "code",
   "execution_count": 10,
   "metadata": {},
   "outputs": [
    {
     "data": {
      "text/plain": [
       "array(['AT', 'DE', 'RO', 'GR', 'US', 'GB', 'BE', 'CZ', 'IT', 'FR', 'CH',\n",
       "       'SE', 'TW', 'ES', 'NL', 'ID', 'SI', 'JP', 'DK', 'PL', 'CY', 'FI',\n",
       "       'HR', 'LT', 'HU', 'SC', 'PT', 'CA', 'LV', 'BR', 'TZ', 'TR', 'MX',\n",
       "       'NO', 'RU', 'IN', 'LU', 'LK', 'MY', 'ZA', 'AZ', 'TH', 'MT', 'PE',\n",
       "       'SK', 'MM', 'CU', 'EG', 'AU', 'MK', 'CR', 'CL', 'MA', 'CN', 'RS',\n",
       "       'IE', 'NZ', 'IS', 'HK', 'VN', 'PH', 'LI', 'IL', 'AR', 'BG', 'SG',\n",
       "       'NP', 'JE', 'KH', 'BA', 'MU', 'AE', 'GT', 'IR', 'UA', 'ME', 'CO',\n",
       "       'RE', 'KR', 'SD', 'OM', 'YE', 'PS', 'EE', 'AL', 'PA', 'SA', 'DO',\n",
       "       'PK', 'CK', 'LA', 'ST', 'BB', 'BW', 'EC', 'GE', 'MZ', 'QA', 'PR',\n",
       "       'NI', 'NA', 'SX', 'IM', 'BT', 'SV', 'ZW', 'XK', 'TN', 'JO', 'BY',\n",
       "       'MV', 'DZ', 'UZ', 'AD', 'VE', 'HN', 'AX', 'BD', 'SM', 'GI', 'KW',\n",
       "       'UG', 'SY', 'AM', 'MQ', 'KZ', 'TM', 'AW', 'UY', 'BQ', 'VG', 'FO',\n",
       "       'TJ', 'BO', 'NG', 'AS', 'SO', 'GP', 'CV', 'ZM', 'KG', 'JM', 'GG',\n",
       "       'KE', 'IQ', 'MD', 'GM', 'YT', 'SZ', 'KN', 'DM', 'CC', 'BZ', 'FJ',\n",
       "       'LB', 'AG', 'ER', 'KY', 'SN', 'MR'], dtype=object)"
      ]
     },
     "execution_count": 10,
     "metadata": {},
     "output_type": "execute_result"
    }
   ],
   "source": [
    "final_df['cc'].unique()"
   ]
  },
  {
   "cell_type": "code",
   "execution_count": 11,
   "metadata": {},
   "outputs": [
    {
     "data": {
      "text/plain": [
       "160"
      ]
     },
     "execution_count": 11,
     "metadata": {},
     "output_type": "execute_result"
    }
   ],
   "source": [
    "final_df['cc'].nunique()"
   ]
  },
  {
   "cell_type": "markdown",
   "metadata": {},
   "source": [
    "That's a lot to deal with manually, I am then importing an external dataset listing country specific information. Let's check it! "
   ]
  },
  {
   "cell_type": "code",
   "execution_count": 12,
   "metadata": {},
   "outputs": [
    {
     "data": {
      "text/html": [
       "<div>\n",
       "<style scoped>\n",
       "    .dataframe tbody tr th:only-of-type {\n",
       "        vertical-align: middle;\n",
       "    }\n",
       "\n",
       "    .dataframe tbody tr th {\n",
       "        vertical-align: top;\n",
       "    }\n",
       "\n",
       "    .dataframe thead th {\n",
       "        text-align: right;\n",
       "    }\n",
       "</style>\n",
       "<table border=\"1\" class=\"dataframe\">\n",
       "  <thead>\n",
       "    <tr style=\"text-align: right;\">\n",
       "      <th></th>\n",
       "      <th>name</th>\n",
       "      <th>alpha-2</th>\n",
       "      <th>alpha-3</th>\n",
       "      <th>country-code</th>\n",
       "      <th>iso_3166-2</th>\n",
       "      <th>region</th>\n",
       "      <th>sub-region</th>\n",
       "      <th>intermediate-region</th>\n",
       "      <th>region-code</th>\n",
       "      <th>sub-region-code</th>\n",
       "      <th>intermediate-region-code</th>\n",
       "    </tr>\n",
       "  </thead>\n",
       "  <tbody>\n",
       "    <tr>\n",
       "      <th>0</th>\n",
       "      <td>Afghanistan</td>\n",
       "      <td>AF</td>\n",
       "      <td>AFG</td>\n",
       "      <td>4</td>\n",
       "      <td>ISO 3166-2:AF</td>\n",
       "      <td>Asia</td>\n",
       "      <td>Southern Asia</td>\n",
       "      <td>NaN</td>\n",
       "      <td>142.0</td>\n",
       "      <td>34.0</td>\n",
       "      <td>NaN</td>\n",
       "    </tr>\n",
       "    <tr>\n",
       "      <th>1</th>\n",
       "      <td>Åland Islands</td>\n",
       "      <td>AX</td>\n",
       "      <td>ALA</td>\n",
       "      <td>248</td>\n",
       "      <td>ISO 3166-2:AX</td>\n",
       "      <td>Europe</td>\n",
       "      <td>Northern Europe</td>\n",
       "      <td>NaN</td>\n",
       "      <td>150.0</td>\n",
       "      <td>154.0</td>\n",
       "      <td>NaN</td>\n",
       "    </tr>\n",
       "    <tr>\n",
       "      <th>2</th>\n",
       "      <td>Albania</td>\n",
       "      <td>AL</td>\n",
       "      <td>ALB</td>\n",
       "      <td>8</td>\n",
       "      <td>ISO 3166-2:AL</td>\n",
       "      <td>Europe</td>\n",
       "      <td>Southern Europe</td>\n",
       "      <td>NaN</td>\n",
       "      <td>150.0</td>\n",
       "      <td>39.0</td>\n",
       "      <td>NaN</td>\n",
       "    </tr>\n",
       "    <tr>\n",
       "      <th>3</th>\n",
       "      <td>Algeria</td>\n",
       "      <td>DZ</td>\n",
       "      <td>DZA</td>\n",
       "      <td>12</td>\n",
       "      <td>ISO 3166-2:DZ</td>\n",
       "      <td>Africa</td>\n",
       "      <td>Northern Africa</td>\n",
       "      <td>NaN</td>\n",
       "      <td>2.0</td>\n",
       "      <td>15.0</td>\n",
       "      <td>NaN</td>\n",
       "    </tr>\n",
       "    <tr>\n",
       "      <th>4</th>\n",
       "      <td>American Samoa</td>\n",
       "      <td>AS</td>\n",
       "      <td>ASM</td>\n",
       "      <td>16</td>\n",
       "      <td>ISO 3166-2:AS</td>\n",
       "      <td>Oceania</td>\n",
       "      <td>Polynesia</td>\n",
       "      <td>NaN</td>\n",
       "      <td>9.0</td>\n",
       "      <td>61.0</td>\n",
       "      <td>NaN</td>\n",
       "    </tr>\n",
       "  </tbody>\n",
       "</table>\n",
       "</div>"
      ],
      "text/plain": [
       "             name alpha-2 alpha-3  country-code     iso_3166-2   region  \\\n",
       "0     Afghanistan      AF     AFG             4  ISO 3166-2:AF     Asia   \n",
       "1   Åland Islands      AX     ALA           248  ISO 3166-2:AX   Europe   \n",
       "2         Albania      AL     ALB             8  ISO 3166-2:AL   Europe   \n",
       "3         Algeria      DZ     DZA            12  ISO 3166-2:DZ   Africa   \n",
       "4  American Samoa      AS     ASM            16  ISO 3166-2:AS  Oceania   \n",
       "\n",
       "        sub-region intermediate-region  region-code  sub-region-code  \\\n",
       "0    Southern Asia                 NaN        142.0             34.0   \n",
       "1  Northern Europe                 NaN        150.0            154.0   \n",
       "2  Southern Europe                 NaN        150.0             39.0   \n",
       "3  Northern Africa                 NaN          2.0             15.0   \n",
       "4        Polynesia                 NaN          9.0             61.0   \n",
       "\n",
       "   intermediate-region-code  \n",
       "0                       NaN  \n",
       "1                       NaN  \n",
       "2                       NaN  \n",
       "3                       NaN  \n",
       "4                       NaN  "
      ]
     },
     "execution_count": 12,
     "metadata": {},
     "output_type": "execute_result"
    }
   ],
   "source": [
    "df_country = pd.read_csv('country.csv')\n",
    "df_country.head()"
   ]
  },
  {
   "cell_type": "markdown",
   "metadata": {},
   "source": [
    "Perfect, we have at least one common variable the \"alpha-2\" to merge the two datasets on!\n",
    "\n",
    "**Merging the two datasets**"
   ]
  },
  {
   "cell_type": "code",
   "execution_count": 13,
   "metadata": {},
   "outputs": [
    {
     "data": {
      "text/html": [
       "<div>\n",
       "<style scoped>\n",
       "    .dataframe tbody tr th:only-of-type {\n",
       "        vertical-align: middle;\n",
       "    }\n",
       "\n",
       "    .dataframe tbody tr th {\n",
       "        vertical-align: top;\n",
       "    }\n",
       "\n",
       "    .dataframe thead th {\n",
       "        text-align: right;\n",
       "    }\n",
       "</style>\n",
       "<table border=\"1\" class=\"dataframe\">\n",
       "  <thead>\n",
       "    <tr style=\"text-align: right;\">\n",
       "      <th></th>\n",
       "      <th>timestamp</th>\n",
       "      <th>user</th>\n",
       "      <th>sport</th>\n",
       "      <th>longitude</th>\n",
       "      <th>latitude</th>\n",
       "      <th>city</th>\n",
       "      <th>state</th>\n",
       "      <th>sub_state</th>\n",
       "      <th>country_code</th>\n",
       "      <th>country</th>\n",
       "      <th>continent</th>\n",
       "    </tr>\n",
       "  </thead>\n",
       "  <tbody>\n",
       "    <tr>\n",
       "      <th>0</th>\n",
       "      <td>2016-05-29 06:00:00</td>\n",
       "      <td>51663fe728afd0c03701845329190f7fe93c3a8ab2ff56...</td>\n",
       "      <td>hike</td>\n",
       "      <td>16.1</td>\n",
       "      <td>47.7</td>\n",
       "      <td>Wartmannstetten</td>\n",
       "      <td>Lower Austria</td>\n",
       "      <td>Politischer Bezirk Neunkirchen</td>\n",
       "      <td>AT</td>\n",
       "      <td>Austria</td>\n",
       "      <td>Europe</td>\n",
       "    </tr>\n",
       "    <tr>\n",
       "      <th>1</th>\n",
       "      <td>2016-08-15 19:00:00</td>\n",
       "      <td>08f0a9cb02168dce9544c7ce237eb2a291901a048bad24...</td>\n",
       "      <td>hike</td>\n",
       "      <td>12.0</td>\n",
       "      <td>47.7</td>\n",
       "      <td>Bayrischzell</td>\n",
       "      <td>Bavaria</td>\n",
       "      <td>Upper Bavaria</td>\n",
       "      <td>DE</td>\n",
       "      <td>Germany</td>\n",
       "      <td>Europe</td>\n",
       "    </tr>\n",
       "    <tr>\n",
       "      <th>2</th>\n",
       "      <td>2016-05-14 19:00:00</td>\n",
       "      <td>0762522db4b59efa5a11a535c88477d6c7a63972febdda...</td>\n",
       "      <td>hike</td>\n",
       "      <td>9.4</td>\n",
       "      <td>51.8</td>\n",
       "      <td>Hoexter</td>\n",
       "      <td>North Rhine-Westphalia</td>\n",
       "      <td>Regierungsbezirk Detmold</td>\n",
       "      <td>DE</td>\n",
       "      <td>Germany</td>\n",
       "      <td>Europe</td>\n",
       "    </tr>\n",
       "    <tr>\n",
       "      <th>3</th>\n",
       "      <td>2017-06-12 20:00:00</td>\n",
       "      <td>70cc307f4148283217dadfcbff54eb9e7d7a944a0b57f6...</td>\n",
       "      <td>touringbicycle</td>\n",
       "      <td>7.8</td>\n",
       "      <td>48.0</td>\n",
       "      <td>Umkirch</td>\n",
       "      <td>Baden-Wuerttemberg</td>\n",
       "      <td>Freiburg Region</td>\n",
       "      <td>DE</td>\n",
       "      <td>Germany</td>\n",
       "      <td>Europe</td>\n",
       "    </tr>\n",
       "    <tr>\n",
       "      <th>4</th>\n",
       "      <td>2014-05-25 09:00:00</td>\n",
       "      <td>c1fc1e63e5e3875538ca23351954ed39405ec27b0c15bb...</td>\n",
       "      <td>mtb</td>\n",
       "      <td>6.8</td>\n",
       "      <td>50.6</td>\n",
       "      <td>Bad Munstereifel</td>\n",
       "      <td>North Rhine-Westphalia</td>\n",
       "      <td>Regierungsbezirk Koln</td>\n",
       "      <td>DE</td>\n",
       "      <td>Germany</td>\n",
       "      <td>Europe</td>\n",
       "    </tr>\n",
       "  </tbody>\n",
       "</table>\n",
       "</div>"
      ],
      "text/plain": [
       "             timestamp                                               user  \\\n",
       "0  2016-05-29 06:00:00  51663fe728afd0c03701845329190f7fe93c3a8ab2ff56...   \n",
       "1  2016-08-15 19:00:00  08f0a9cb02168dce9544c7ce237eb2a291901a048bad24...   \n",
       "2  2016-05-14 19:00:00  0762522db4b59efa5a11a535c88477d6c7a63972febdda...   \n",
       "3  2017-06-12 20:00:00  70cc307f4148283217dadfcbff54eb9e7d7a944a0b57f6...   \n",
       "4  2014-05-25 09:00:00  c1fc1e63e5e3875538ca23351954ed39405ec27b0c15bb...   \n",
       "\n",
       "            sport  longitude  latitude              city  \\\n",
       "0            hike       16.1      47.7   Wartmannstetten   \n",
       "1            hike       12.0      47.7      Bayrischzell   \n",
       "2            hike        9.4      51.8           Hoexter   \n",
       "3  touringbicycle        7.8      48.0           Umkirch   \n",
       "4             mtb        6.8      50.6  Bad Munstereifel   \n",
       "\n",
       "                    state                       sub_state country_code  \\\n",
       "0           Lower Austria  Politischer Bezirk Neunkirchen           AT   \n",
       "1                 Bavaria                   Upper Bavaria           DE   \n",
       "2  North Rhine-Westphalia        Regierungsbezirk Detmold           DE   \n",
       "3      Baden-Wuerttemberg                 Freiburg Region           DE   \n",
       "4  North Rhine-Westphalia           Regierungsbezirk Koln           DE   \n",
       "\n",
       "   country continent  \n",
       "0  Austria    Europe  \n",
       "1  Germany    Europe  \n",
       "2  Germany    Europe  \n",
       "3  Germany    Europe  \n",
       "4  Germany    Europe  "
      ]
     },
     "execution_count": 13,
     "metadata": {},
     "output_type": "execute_result"
    }
   ],
   "source": [
    "#merging while selecting necessary variables\n",
    "aaa = pd.merge(left = final_df, right = df_country[['name','alpha-2','region']], how='left', on = None,left_on=['cc'], right_on = ['alpha-2'])\n",
    "\n",
    "#renaming the columns for consistency \n",
    "ab = aaa.rename(columns={\"name_x\": \"city\", \"admin1\": \"state\",'admin2':'sub_state','name_y':'country','cc':'country_code','region':'continent'})\n",
    "\n",
    "#remove duplicate column\n",
    "df_final = ab.loc[:, ab.columns != 'alpha-2']\n",
    "\n",
    "#print the head of the df_final dataframe\n",
    "df_final.head()"
   ]
  },
  {
   "cell_type": "code",
   "execution_count": 14,
   "metadata": {},
   "outputs": [
    {
     "data": {
      "text/plain": [
       "array(['NA', 'XK'], dtype=object)"
      ]
     },
     "execution_count": 14,
     "metadata": {},
     "output_type": "execute_result"
    }
   ],
   "source": [
    "#checking if all the country codes have a coresponding country name\n",
    "df_final[df_final['country'].isnull()]['country_code'].unique()"
   ]
  },
  {
   "cell_type": "markdown",
   "metadata": {},
   "source": [
    "So, at this stage it's like the merging task has been done properly except for two country codes, NA and XK, after a quick google search to get the name if the countries, I decide to change update the dataset manually!"
   ]
  },
  {
   "cell_type": "code",
   "execution_count": 15,
   "metadata": {},
   "outputs": [
    {
     "name": "stderr",
     "output_type": "stream",
     "text": [
      "/usr/local/lib/python3.6/site-packages/pandas/core/indexing.py:537: SettingWithCopyWarning: \n",
      "A value is trying to be set on a copy of a slice from a DataFrame.\n",
      "Try using .loc[row_indexer,col_indexer] = value instead\n",
      "\n",
      "See the caveats in the documentation: http://pandas.pydata.org/pandas-docs/stable/indexing.html#indexing-view-versus-copy\n",
      "  self.obj[item] = s\n"
     ]
    },
    {
     "data": {
      "text/plain": [
       "timestamp       0\n",
       "user            0\n",
       "sport           0\n",
       "longitude       0\n",
       "latitude        0\n",
       "city            0\n",
       "state           0\n",
       "sub_state       0\n",
       "country_code    0\n",
       "country         0\n",
       "continent       0\n",
       "dtype: int64"
      ]
     },
     "execution_count": 15,
     "metadata": {},
     "output_type": "execute_result"
    }
   ],
   "source": [
    "mask = df_final['country_code'] == 'NA'\n",
    "cou = 'country'\n",
    "con = 'continent'\n",
    "df_final.loc[mask, cou] = 'Namibia'\n",
    "df_final.loc[mask, con] = 'Africa'\n",
    "\n",
    "mask2 = df_final['country_code'] == 'XK'\n",
    "cou2= 'country'\n",
    "con2= 'continent'\n",
    "df_final.loc[mask2, cou2] = 'Kosovo'\n",
    "df_final.loc[mask2, con2] = 'Europe'\n",
    "\n",
    "#checking if there are any missing values\n",
    "\n",
    "df_final.isnull().sum()"
   ]
  },
  {
   "cell_type": "markdown",
   "metadata": {},
   "source": [
    "Great! We are good to go!Before to answer the real question, let's explore a bit more the data"
   ]
  },
  {
   "cell_type": "markdown",
   "metadata": {},
   "source": [
    "**Users count distribution ** \n",
    "\n",
    "In other words, How often in general users used the feature. The right visual is a zommed version of the left one. Most people come back between 0 and 20 times. "
   ]
  },
  {
   "cell_type": "code",
   "execution_count": 16,
   "metadata": {},
   "outputs": [
    {
     "data": {
      "image/png": "[encoded data removed]",
      "text/plain": [
       "<matplotlib.figure.Figure at 0x12fe26048>"
      ]
     },
     "metadata": {},
     "output_type": "display_data"
    }
   ],
   "source": [
    "fig, (ax1, ax2) = plt.subplots(ncols=2, sharey=True, figsize= (10,3))\n",
    "sns.distplot(df_final['user'].value_counts(), ax= ax1)\n",
    "g = sns.distplot(df_final['user'].value_counts(),ax = ax2)\n",
    "g.set(xlim=(0, 100));"
   ]
  },
  {
   "cell_type": "markdown",
   "metadata": {},
   "source": [
    "**Count of users by sport**"
   ]
  },
  {
   "cell_type": "code",
   "execution_count": 17,
   "metadata": {},
   "outputs": [
    {
     "name": "stderr",
     "output_type": "stream",
     "text": [
      "/usr/local/lib/python3.6/site-packages/seaborn/categorical.py:1460: FutureWarning: remove_na is deprecated and is a private function. Do not use.\n",
      "  stat_data = remove_na(group_data)\n"
     ]
    },
    {
     "data": {
      "image/png": "[encoded data removed]",
      "text/plain": [
       "<matplotlib.figure.Figure at 0x1305fbd30>"
      ]
     },
     "metadata": {},
     "output_type": "display_data"
    }
   ],
   "source": [
    "sns.set_context(\"talk\")\n",
    "plt.figure(figsize = (16,8))\n",
    "plt.xticks(rotation=90)\n",
    "plt.title(\"Users by sport\")\n",
    "sns.countplot(x='sport', data=df_final);"
   ]
  },
  {
   "cell_type": "markdown",
   "metadata": {},
   "source": [
    "**Is it different by country?**\n",
    "\n",
    "Let's only check for the 5 top countries"
   ]
  },
  {
   "cell_type": "code",
   "execution_count": 18,
   "metadata": {},
   "outputs": [
    {
     "data": {
      "text/plain": [
       "country\n",
       "Germany        530610\n",
       "Austria         38156\n",
       "Italy           22281\n",
       "Switzerland     13711\n",
       "Spain           11585\n",
       "Name: user, dtype: int64"
      ]
     },
     "execution_count": 18,
     "metadata": {},
     "output_type": "execute_result"
    }
   ],
   "source": [
    "df_final.groupby('country')['user'].count().sort_values(ascending=False).head(5)"
   ]
  },
  {
   "cell_type": "code",
   "execution_count": 19,
   "metadata": {},
   "outputs": [],
   "source": [
    "best_sport = pd.DataFrame(df_final['user'].groupby([df_final['sport'],df_final['country'],df_final['country_code']]).size()).reset_index()\n",
    "bsp = best_sport[(best_sport['country']=='Germany')|(best_sport['country']=='Austria')|(best_sport['country']=='Italy')|(best_sport['country']=='Switzerland')|(best_sport['country']=='Spain')]\n"
   ]
  },
  {
   "cell_type": "code",
   "execution_count": 20,
   "metadata": {},
   "outputs": [
    {
     "data": {
      "text/html": [
       "<div>\n",
       "<style scoped>\n",
       "    .dataframe tbody tr th:only-of-type {\n",
       "        vertical-align: middle;\n",
       "    }\n",
       "\n",
       "    .dataframe tbody tr th {\n",
       "        vertical-align: top;\n",
       "    }\n",
       "\n",
       "    .dataframe thead th {\n",
       "        text-align: right;\n",
       "    }\n",
       "</style>\n",
       "<table border=\"1\" class=\"dataframe\">\n",
       "  <thead>\n",
       "    <tr style=\"text-align: right;\">\n",
       "      <th></th>\n",
       "      <th>sport</th>\n",
       "      <th>country</th>\n",
       "      <th>country_code</th>\n",
       "      <th>user</th>\n",
       "    </tr>\n",
       "  </thead>\n",
       "  <tbody>\n",
       "    <tr>\n",
       "      <th>0</th>\n",
       "      <td>Other</td>\n",
       "      <td>Germany</td>\n",
       "      <td>DE</td>\n",
       "      <td>16</td>\n",
       "    </tr>\n",
       "    <tr>\n",
       "      <th>1</th>\n",
       "      <td>Other</td>\n",
       "      <td>Italy</td>\n",
       "      <td>IT</td>\n",
       "      <td>2</td>\n",
       "    </tr>\n",
       "    <tr>\n",
       "      <th>2</th>\n",
       "      <td>citybike</td>\n",
       "      <td>Austria</td>\n",
       "      <td>AT</td>\n",
       "      <td>19</td>\n",
       "    </tr>\n",
       "    <tr>\n",
       "      <th>7</th>\n",
       "      <td>citybike</td>\n",
       "      <td>Germany</td>\n",
       "      <td>DE</td>\n",
       "      <td>265</td>\n",
       "    </tr>\n",
       "    <tr>\n",
       "      <th>9</th>\n",
       "      <td>citybike</td>\n",
       "      <td>Italy</td>\n",
       "      <td>IT</td>\n",
       "      <td>4</td>\n",
       "    </tr>\n",
       "  </tbody>\n",
       "</table>\n",
       "</div>"
      ],
      "text/plain": [
       "      sport  country country_code  user\n",
       "0     Other  Germany           DE    16\n",
       "1     Other    Italy           IT     2\n",
       "2  citybike  Austria           AT    19\n",
       "7  citybike  Germany           DE   265\n",
       "9  citybike    Italy           IT     4"
      ]
     },
     "execution_count": 20,
     "metadata": {},
     "output_type": "execute_result"
    }
   ],
   "source": [
    "bsp.head()"
   ]
  },
  {
   "cell_type": "code",
   "execution_count": 21,
   "metadata": {},
   "outputs": [
    {
     "name": "stderr",
     "output_type": "stream",
     "text": [
      "/usr/local/lib/python3.6/site-packages/seaborn/categorical.py:1508: FutureWarning: remove_na is deprecated and is a private function. Do not use.\n",
      "  stat_data = remove_na(group_data[hue_mask])\n"
     ]
    },
    {
     "data": {
      "image/png": "[encoded data removed]",
      "text/plain": [
       "<matplotlib.figure.Figure at 0x11f0a39b0>"
      ]
     },
     "metadata": {},
     "output_type": "display_data"
    }
   ],
   "source": [
    "plt.figure(figsize = (18,8))\n",
    "flatui = [\"#9b59b6\", \"#3498db\", \"#95a5a6\", \"#e74c3c\", \"#34495e\", \"#2ecc71\",\"#023fa5\", \"#7d87b9\", \"#bec1d4\", \"#d6bcc0\", \"#bb7784\", \"#8e063b\", \"#4a6fe3\", \"#8595e1\", \"#b5bbe3\", \"#e6afb9\", \"#e07b91\", \"#d33f6a\", \"#11c638\", \"#8dd593\", \"#c6dec7\", \"#ead3c6\", \"#f0b98d\", \"#ef9708\", \"#0fcfc0\", \"#9cded6\", \"#d5eae7\", \"#f3e1eb\", \"#f6c4e1\", \"#f79cd4\"]\n",
    "ax = sns.barplot(x='country_code', y='user', data = bsp, hue= 'sport',palette=flatui)"
   ]
  },
  {
   "cell_type": "markdown",
   "metadata": {},
   "source": [
    "Germany is clearly the first destination, an important difference is noted with the other top countries. The question i am then wondering how many countries in average a user is visiitng ? "
   ]
  },
  {
   "cell_type": "code",
   "execution_count": 22,
   "metadata": {},
   "outputs": [
    {
     "data": {
      "text/plain": [
       "1.3119953480644626"
      ]
     },
     "execution_count": 22,
     "metadata": {},
     "output_type": "execute_result"
    }
   ],
   "source": [
    "zones = df_final[['user','country_code']].drop_duplicates()\n",
    "zones.groupby('user')['country_code'].size().mean()"
   ]
  },
  {
   "cell_type": "markdown",
   "metadata": {},
   "source": [
    "1.31 countries, interesting!Let'quickly plot the distribution of this count. "
   ]
  },
  {
   "cell_type": "code",
   "execution_count": 23,
   "metadata": {},
   "outputs": [
    {
     "data": {
      "image/png": "[encoded data removed]",
      "text/plain": [
       "<matplotlib.figure.Figure at 0x11eb8ab38>"
      ]
     },
     "metadata": {},
     "output_type": "display_data"
    }
   ],
   "source": [
    "fig, (ax1, ax2) = plt.subplots(ncols=2, sharey=True, figsize= (10,3))\n",
    "sns.distplot(zones.groupby('user')['country_code'].size(),ax=ax1)\n",
    "g = sns.distplot(zones.groupby('user')['country_code'].size(),ax=ax2)\n",
    "g.set(xlim=(0, 5));"
   ]
  },
  {
   "cell_type": "markdown",
   "metadata": {},
   "source": [
    "Alright, I am going to stop here with the data analysis, It was interesting to see that hiking and touring bycile are the most slected sport. This obsevation is also valid in our top 5 user countries (DE,AT,IT,CH,ES) however in Germany the touring bycle gets the first position. \n",
    "While doing this country split, I realised that the country is not necessarly the country the user is actually living. that means that people can record tours in germany but also in IT few month later. Knowing the customer real home location would be interting to know to go deeper in the analysis. \n",
    "For now, I can tell you that users have beenin average in 1.31 countries!\n",
    "\n",
    "Let's now dive into the core issue of my stakeholder! \n",
    "\n",
    "**how much people enjoy recording Tours in komoot—and to what extent they want to continue doing so**.\n",
    "Please analyze the data we prepared for you and **calculate and interpret country-specific retention rates over time**.\n",
    "\n",
    "For this I am going to perform a **cohort analysis**! There is a very good tutorial written by Greg Reda that you can find [here](http://www.gregreda.com/2015/08/23/cohort-analysis-with-python/)."
   ]
  },
  {
   "cell_type": "markdown",
   "metadata": {},
   "source": [
    "## Cohort Analysis\n",
    "\n",
    "**Getting the data**"
   ]
  },
  {
   "cell_type": "code",
   "execution_count": 24,
   "metadata": {},
   "outputs": [
    {
     "name": "stderr",
     "output_type": "stream",
     "text": [
      "/usr/local/lib/python3.6/site-packages/ipykernel_launcher.py:10: SettingWithCopyWarning: \n",
      "A value is trying to be set on a copy of a slice from a DataFrame.\n",
      "Try using .loc[row_indexer,col_indexer] = value instead\n",
      "\n",
      "See the caveats in the documentation: http://pandas.pydata.org/pandas-docs/stable/indexing.html#indexing-view-versus-copy\n",
      "  # Remove the CWD from sys.path while we load stuff.\n"
     ]
    },
    {
     "data": {
      "text/html": [
       "<div>\n",
       "<style scoped>\n",
       "    .dataframe tbody tr th:only-of-type {\n",
       "        vertical-align: middle;\n",
       "    }\n",
       "\n",
       "    .dataframe tbody tr th {\n",
       "        vertical-align: top;\n",
       "    }\n",
       "\n",
       "    .dataframe thead th {\n",
       "        text-align: right;\n",
       "    }\n",
       "</style>\n",
       "<table border=\"1\" class=\"dataframe\">\n",
       "  <thead>\n",
       "    <tr style=\"text-align: right;\">\n",
       "      <th></th>\n",
       "      <th>user</th>\n",
       "      <th>country</th>\n",
       "      <th>date</th>\n",
       "      <th>order_date</th>\n",
       "    </tr>\n",
       "  </thead>\n",
       "  <tbody>\n",
       "    <tr>\n",
       "      <th>0</th>\n",
       "      <td>51663fe728afd0c03701845329190f7fe93c3a8ab2ff56...</td>\n",
       "      <td>Austria</td>\n",
       "      <td>2016-05</td>\n",
       "      <td>2016-05-29</td>\n",
       "    </tr>\n",
       "    <tr>\n",
       "      <th>1</th>\n",
       "      <td>08f0a9cb02168dce9544c7ce237eb2a291901a048bad24...</td>\n",
       "      <td>Germany</td>\n",
       "      <td>2016-08</td>\n",
       "      <td>2016-08-15</td>\n",
       "    </tr>\n",
       "    <tr>\n",
       "      <th>2</th>\n",
       "      <td>0762522db4b59efa5a11a535c88477d6c7a63972febdda...</td>\n",
       "      <td>Germany</td>\n",
       "      <td>2016-05</td>\n",
       "      <td>2016-05-14</td>\n",
       "    </tr>\n",
       "    <tr>\n",
       "      <th>3</th>\n",
       "      <td>70cc307f4148283217dadfcbff54eb9e7d7a944a0b57f6...</td>\n",
       "      <td>Germany</td>\n",
       "      <td>2017-06</td>\n",
       "      <td>2017-06-12</td>\n",
       "    </tr>\n",
       "    <tr>\n",
       "      <th>4</th>\n",
       "      <td>c1fc1e63e5e3875538ca23351954ed39405ec27b0c15bb...</td>\n",
       "      <td>Germany</td>\n",
       "      <td>2014-05</td>\n",
       "      <td>2014-05-25</td>\n",
       "    </tr>\n",
       "  </tbody>\n",
       "</table>\n",
       "</div>"
      ],
      "text/plain": [
       "                                                user  country     date  \\\n",
       "0  51663fe728afd0c03701845329190f7fe93c3a8ab2ff56...  Austria  2016-05   \n",
       "1  08f0a9cb02168dce9544c7ce237eb2a291901a048bad24...  Germany  2016-08   \n",
       "2  0762522db4b59efa5a11a535c88477d6c7a63972febdda...  Germany  2016-05   \n",
       "3  70cc307f4148283217dadfcbff54eb9e7d7a944a0b57f6...  Germany  2017-06   \n",
       "4  c1fc1e63e5e3875538ca23351954ed39405ec27b0c15bb...  Germany  2014-05   \n",
       "\n",
       "  order_date  \n",
       "0 2016-05-29  \n",
       "1 2016-08-15  \n",
       "2 2016-05-14  \n",
       "3 2017-06-12  \n",
       "4 2014-05-25  "
      ]
     },
     "execution_count": 24,
     "metadata": {},
     "output_type": "execute_result"
    }
   ],
   "source": [
    "#reformat the date fields \n",
    "from datetime import datetime\n",
    "df_final['date'] = pd.to_datetime(df_final['timestamp']).apply(lambda x: x.strftime('%Y-%m'))\n",
    "df_final['order_date'] = pd.to_datetime(df_final['timestamp']).apply(lambda x: x.strftime('%Y-%m-%d'))\n",
    "\n",
    "#create a new dataframe with the needed info to perform the cohort analysis\n",
    "dz = df_final[['user','country','date','order_date']]\n",
    "\n",
    "#change the order_date variable data type\n",
    "dz['order_date'] = pd.to_datetime(dz.order_date)\n",
    "\n",
    "#print the head \n",
    "dz.head()"
   ]
  },
  {
   "cell_type": "markdown",
   "metadata": {},
   "source": [
    "**Determine the user's cohort group based on their first used of the feature**"
   ]
  },
  {
   "cell_type": "code",
   "execution_count": 25,
   "metadata": {},
   "outputs": [
    {
     "name": "stderr",
     "output_type": "stream",
     "text": [
      "/usr/local/lib/python3.6/site-packages/ipykernel_launcher.py:2: SettingWithCopyWarning: \n",
      "A value is trying to be set on a copy of a slice from a DataFrame.\n",
      "Try using .loc[row_indexer,col_indexer] = value instead\n",
      "\n",
      "See the caveats in the documentation: http://pandas.pydata.org/pandas-docs/stable/indexing.html#indexing-view-versus-copy\n",
      "  \n"
     ]
    },
    {
     "data": {
      "text/html": [
       "<div>\n",
       "<style scoped>\n",
       "    .dataframe tbody tr th:only-of-type {\n",
       "        vertical-align: middle;\n",
       "    }\n",
       "\n",
       "    .dataframe tbody tr th {\n",
       "        vertical-align: top;\n",
       "    }\n",
       "\n",
       "    .dataframe thead th {\n",
       "        text-align: right;\n",
       "    }\n",
       "</style>\n",
       "<table border=\"1\" class=\"dataframe\">\n",
       "  <thead>\n",
       "    <tr style=\"text-align: right;\">\n",
       "      <th></th>\n",
       "      <th>user</th>\n",
       "      <th>country</th>\n",
       "      <th>date</th>\n",
       "      <th>order_date</th>\n",
       "      <th>CohortGroup</th>\n",
       "    </tr>\n",
       "  </thead>\n",
       "  <tbody>\n",
       "    <tr>\n",
       "      <th>0</th>\n",
       "      <td>51663fe728afd0c03701845329190f7fe93c3a8ab2ff56...</td>\n",
       "      <td>Austria</td>\n",
       "      <td>2016-05</td>\n",
       "      <td>2016-05-29</td>\n",
       "      <td>2014-05</td>\n",
       "    </tr>\n",
       "    <tr>\n",
       "      <th>1</th>\n",
       "      <td>08f0a9cb02168dce9544c7ce237eb2a291901a048bad24...</td>\n",
       "      <td>Germany</td>\n",
       "      <td>2016-08</td>\n",
       "      <td>2016-08-15</td>\n",
       "      <td>2016-08</td>\n",
       "    </tr>\n",
       "    <tr>\n",
       "      <th>2</th>\n",
       "      <td>0762522db4b59efa5a11a535c88477d6c7a63972febdda...</td>\n",
       "      <td>Germany</td>\n",
       "      <td>2016-05</td>\n",
       "      <td>2016-05-14</td>\n",
       "      <td>2015-10</td>\n",
       "    </tr>\n",
       "    <tr>\n",
       "      <th>3</th>\n",
       "      <td>70cc307f4148283217dadfcbff54eb9e7d7a944a0b57f6...</td>\n",
       "      <td>Germany</td>\n",
       "      <td>2017-06</td>\n",
       "      <td>2017-06-12</td>\n",
       "      <td>2017-06</td>\n",
       "    </tr>\n",
       "    <tr>\n",
       "      <th>4</th>\n",
       "      <td>c1fc1e63e5e3875538ca23351954ed39405ec27b0c15bb...</td>\n",
       "      <td>Germany</td>\n",
       "      <td>2014-05</td>\n",
       "      <td>2014-05-25</td>\n",
       "      <td>2013-10</td>\n",
       "    </tr>\n",
       "  </tbody>\n",
       "</table>\n",
       "</div>"
      ],
      "text/plain": [
       "                                                user  country     date  \\\n",
       "0  51663fe728afd0c03701845329190f7fe93c3a8ab2ff56...  Austria  2016-05   \n",
       "1  08f0a9cb02168dce9544c7ce237eb2a291901a048bad24...  Germany  2016-08   \n",
       "2  0762522db4b59efa5a11a535c88477d6c7a63972febdda...  Germany  2016-05   \n",
       "3  70cc307f4148283217dadfcbff54eb9e7d7a944a0b57f6...  Germany  2017-06   \n",
       "4  c1fc1e63e5e3875538ca23351954ed39405ec27b0c15bb...  Germany  2014-05   \n",
       "\n",
       "  order_date CohortGroup  \n",
       "0 2016-05-29     2014-05  \n",
       "1 2016-08-15     2016-08  \n",
       "2 2016-05-14     2015-10  \n",
       "3 2017-06-12     2017-06  \n",
       "4 2014-05-25     2013-10  "
      ]
     },
     "execution_count": 25,
     "metadata": {},
     "output_type": "execute_result"
    }
   ],
   "source": [
    "dz.set_index('user', inplace=True)\n",
    "dz['CohortGroup'] = dz.groupby(level=0)['order_date'].min().apply(lambda x: x.strftime('%Y-%m'))\n",
    "dz.reset_index(inplace=True)\n",
    "dz.head()"
   ]
  },
  {
   "cell_type": "markdown",
   "metadata": {},
   "source": [
    "We now the cohort group assigned to each user. Forst example the user at index 0, used the feature for the first time in Austria in May 2014."
   ]
  },
  {
   "cell_type": "markdown",
   "metadata": {},
   "source": [
    "**Aggregate users by CohortGroup**"
   ]
  },
  {
   "cell_type": "code",
   "execution_count": 26,
   "metadata": {},
   "outputs": [
    {
     "data": {
      "text/html": [
       "<div>\n",
       "<style scoped>\n",
       "    .dataframe tbody tr th:only-of-type {\n",
       "        vertical-align: middle;\n",
       "    }\n",
       "\n",
       "    .dataframe tbody tr th {\n",
       "        vertical-align: top;\n",
       "    }\n",
       "\n",
       "    .dataframe thead th {\n",
       "        text-align: right;\n",
       "    }\n",
       "</style>\n",
       "<table border=\"1\" class=\"dataframe\">\n",
       "  <thead>\n",
       "    <tr style=\"text-align: right;\">\n",
       "      <th></th>\n",
       "      <th></th>\n",
       "      <th>TotalUsers</th>\n",
       "    </tr>\n",
       "    <tr>\n",
       "      <th>CohortGroup</th>\n",
       "      <th>date</th>\n",
       "      <th></th>\n",
       "    </tr>\n",
       "  </thead>\n",
       "  <tbody>\n",
       "    <tr>\n",
       "      <th rowspan=\"5\" valign=\"top\">2010-04</th>\n",
       "      <th>2010-04</th>\n",
       "      <td>34</td>\n",
       "    </tr>\n",
       "    <tr>\n",
       "      <th>2010-05</th>\n",
       "      <td>4</td>\n",
       "    </tr>\n",
       "    <tr>\n",
       "      <th>2010-06</th>\n",
       "      <td>4</td>\n",
       "    </tr>\n",
       "    <tr>\n",
       "      <th>2010-08</th>\n",
       "      <td>2</td>\n",
       "    </tr>\n",
       "    <tr>\n",
       "      <th>2010-09</th>\n",
       "      <td>2</td>\n",
       "    </tr>\n",
       "  </tbody>\n",
       "</table>\n",
       "</div>"
      ],
      "text/plain": [
       "                     TotalUsers\n",
       "CohortGroup date               \n",
       "2010-04     2010-04          34\n",
       "            2010-05           4\n",
       "            2010-06           4\n",
       "            2010-08           2\n",
       "            2010-09           2"
      ]
     },
     "execution_count": 26,
     "metadata": {},
     "output_type": "execute_result"
    }
   ],
   "source": [
    "grouped = dz.groupby(['CohortGroup', 'date'])\n",
    "grouped_1=grouped\n",
    "# count the unique users, per Group + Period\n",
    "cohort = grouped.agg({'user': pd.Series.nunique})\n",
    "\n",
    "# make the column names more meaningful\n",
    "cohort.rename(columns={'user': 'TotalUsers'}, inplace=True)\n",
    "cohort.head()"
   ]
  },
  {
   "cell_type": "code",
   "execution_count": 27,
   "metadata": {},
   "outputs": [
    {
     "data": {
      "text/plain": [
       "4"
      ]
     },
     "execution_count": 27,
     "metadata": {},
     "output_type": "execute_result"
    }
   ],
   "source": [
    "#checking manually if the data is matching! \n",
    "dz[(dz['date']=='2010-06') & (dz['CohortGroup']=='2010-04')]['user'].nunique()"
   ]
  },
  {
   "cell_type": "markdown",
   "metadata": {},
   "source": [
    "**Label the CohortPeriod for each CohortGroup**"
   ]
  },
  {
   "cell_type": "code",
   "execution_count": 28,
   "metadata": {},
   "outputs": [
    {
     "data": {
      "text/html": [
       "<div>\n",
       "<style scoped>\n",
       "    .dataframe tbody tr th:only-of-type {\n",
       "        vertical-align: middle;\n",
       "    }\n",
       "\n",
       "    .dataframe tbody tr th {\n",
       "        vertical-align: top;\n",
       "    }\n",
       "\n",
       "    .dataframe thead th {\n",
       "        text-align: right;\n",
       "    }\n",
       "</style>\n",
       "<table border=\"1\" class=\"dataframe\">\n",
       "  <thead>\n",
       "    <tr style=\"text-align: right;\">\n",
       "      <th></th>\n",
       "      <th></th>\n",
       "      <th>TotalUsers</th>\n",
       "      <th>CohortPeriod</th>\n",
       "    </tr>\n",
       "    <tr>\n",
       "      <th>CohortGroup</th>\n",
       "      <th>date</th>\n",
       "      <th></th>\n",
       "      <th></th>\n",
       "    </tr>\n",
       "  </thead>\n",
       "  <tbody>\n",
       "    <tr>\n",
       "      <th rowspan=\"5\" valign=\"top\">2010-04</th>\n",
       "      <th>2010-04</th>\n",
       "      <td>34</td>\n",
       "      <td>1</td>\n",
       "    </tr>\n",
       "    <tr>\n",
       "      <th>2010-05</th>\n",
       "      <td>4</td>\n",
       "      <td>2</td>\n",
       "    </tr>\n",
       "    <tr>\n",
       "      <th>2010-06</th>\n",
       "      <td>4</td>\n",
       "      <td>3</td>\n",
       "    </tr>\n",
       "    <tr>\n",
       "      <th>2010-08</th>\n",
       "      <td>2</td>\n",
       "      <td>4</td>\n",
       "    </tr>\n",
       "    <tr>\n",
       "      <th>2010-09</th>\n",
       "      <td>2</td>\n",
       "      <td>5</td>\n",
       "    </tr>\n",
       "  </tbody>\n",
       "</table>\n",
       "</div>"
      ],
      "text/plain": [
       "                     TotalUsers  CohortPeriod\n",
       "CohortGroup date                             \n",
       "2010-04     2010-04          34             1\n",
       "            2010-05           4             2\n",
       "            2010-06           4             3\n",
       "            2010-08           2             4\n",
       "            2010-09           2             5"
      ]
     },
     "execution_count": 28,
     "metadata": {},
     "output_type": "execute_result"
    }
   ],
   "source": [
    "def cohort_period(df):\n",
    "    \"\"\"\n",
    "    Creates a `CohortPeriod` column, which is the Nth period based on the user's first purchase.\n",
    "    \n",
    "    Example\n",
    "    -------\n",
    "    Say you want to get the 3rd month for every user:\n",
    "        df.sort(['UserId', 'OrderTime', inplace=True)\n",
    "        df = df.groupby('UserId').apply(cohort_period)\n",
    "        df[df.CohortPeriod == 3]\n",
    "    \"\"\"\n",
    "    df['CohortPeriod'] = np.arange(len(df)) + 1\n",
    "    return df\n",
    "\n",
    "cohort = cohort.groupby(level=0).apply(cohort_period)\n",
    "cohort.head()"
   ]
  },
  {
   "cell_type": "markdown",
   "metadata": {},
   "source": [
    "We now have the cohort period listed. "
   ]
  },
  {
   "cell_type": "markdown",
   "metadata": {},
   "source": [
    "**Calculate the user retention by group**"
   ]
  },
  {
   "cell_type": "code",
   "execution_count": 29,
   "metadata": {},
   "outputs": [
    {
     "data": {
      "text/plain": [
       "CohortGroup\n",
       "2010-04    34\n",
       "2010-05    55\n",
       "2010-06    52\n",
       "2010-07    49\n",
       "2010-08    44\n",
       "2010-09    50\n",
       "2010-10    26\n",
       "2010-11    13\n",
       "2010-12    11\n",
       "2011-01    27\n",
       "Name: TotalUsers, dtype: int64"
      ]
     },
     "execution_count": 29,
     "metadata": {},
     "output_type": "execute_result"
    }
   ],
   "source": [
    "# reindex the DataFrame\n",
    "cohort.reset_index(inplace=True)\n",
    "cohort.set_index(['CohortGroup', 'CohortPeriod'], inplace=True)\n",
    "\n",
    "# create a Series holding the total size of each CohortGroup\n",
    "cohort_group_size= cohort['TotalUsers'].groupby(level=0).first()\n",
    "cohort_group_size.head(10)"
   ]
  },
  {
   "cell_type": "code",
   "execution_count": 30,
   "metadata": {},
   "outputs": [
    {
     "data": {
      "text/html": [
       "<div>\n",
       "<style scoped>\n",
       "    .dataframe tbody tr th:only-of-type {\n",
       "        vertical-align: middle;\n",
       "    }\n",
       "\n",
       "    .dataframe tbody tr th {\n",
       "        vertical-align: top;\n",
       "    }\n",
       "\n",
       "    .dataframe thead th {\n",
       "        text-align: right;\n",
       "    }\n",
       "</style>\n",
       "<table border=\"1\" class=\"dataframe\">\n",
       "  <thead>\n",
       "    <tr style=\"text-align: right;\">\n",
       "      <th>CohortGroup</th>\n",
       "      <th>2010-04</th>\n",
       "      <th>2010-05</th>\n",
       "      <th>2010-06</th>\n",
       "      <th>2010-07</th>\n",
       "      <th>2010-08</th>\n",
       "      <th>2010-09</th>\n",
       "      <th>2010-10</th>\n",
       "      <th>2010-11</th>\n",
       "      <th>2010-12</th>\n",
       "      <th>2011-01</th>\n",
       "      <th>...</th>\n",
       "      <th>2016-12</th>\n",
       "      <th>2017-01</th>\n",
       "      <th>2017-02</th>\n",
       "      <th>2017-03</th>\n",
       "      <th>2017-04</th>\n",
       "      <th>2017-05</th>\n",
       "      <th>2017-06</th>\n",
       "      <th>2017-07</th>\n",
       "      <th>2017-08</th>\n",
       "      <th>2017-09</th>\n",
       "    </tr>\n",
       "    <tr>\n",
       "      <th>CohortPeriod</th>\n",
       "      <th></th>\n",
       "      <th></th>\n",
       "      <th></th>\n",
       "      <th></th>\n",
       "      <th></th>\n",
       "      <th></th>\n",
       "      <th></th>\n",
       "      <th></th>\n",
       "      <th></th>\n",
       "      <th></th>\n",
       "      <th></th>\n",
       "      <th></th>\n",
       "      <th></th>\n",
       "      <th></th>\n",
       "      <th></th>\n",
       "      <th></th>\n",
       "      <th></th>\n",
       "      <th></th>\n",
       "      <th></th>\n",
       "      <th></th>\n",
       "      <th></th>\n",
       "    </tr>\n",
       "  </thead>\n",
       "  <tbody>\n",
       "    <tr>\n",
       "      <th>1</th>\n",
       "      <td>34.0</td>\n",
       "      <td>55.0</td>\n",
       "      <td>52.0</td>\n",
       "      <td>49.0</td>\n",
       "      <td>44.0</td>\n",
       "      <td>50.0</td>\n",
       "      <td>26.0</td>\n",
       "      <td>13.0</td>\n",
       "      <td>11.0</td>\n",
       "      <td>27.0</td>\n",
       "      <td>...</td>\n",
       "      <td>421.0</td>\n",
       "      <td>554.0</td>\n",
       "      <td>612.0</td>\n",
       "      <td>1483.0</td>\n",
       "      <td>2511.0</td>\n",
       "      <td>3287.0</td>\n",
       "      <td>3794.0</td>\n",
       "      <td>3776.0</td>\n",
       "      <td>4371.0</td>\n",
       "      <td>1171.0</td>\n",
       "    </tr>\n",
       "    <tr>\n",
       "      <th>2</th>\n",
       "      <td>4.0</td>\n",
       "      <td>4.0</td>\n",
       "      <td>10.0</td>\n",
       "      <td>4.0</td>\n",
       "      <td>3.0</td>\n",
       "      <td>2.0</td>\n",
       "      <td>1.0</td>\n",
       "      <td>1.0</td>\n",
       "      <td>2.0</td>\n",
       "      <td>2.0</td>\n",
       "      <td>...</td>\n",
       "      <td>114.0</td>\n",
       "      <td>159.0</td>\n",
       "      <td>240.0</td>\n",
       "      <td>621.0</td>\n",
       "      <td>973.0</td>\n",
       "      <td>1208.0</td>\n",
       "      <td>1319.0</td>\n",
       "      <td>1322.0</td>\n",
       "      <td>872.0</td>\n",
       "      <td>NaN</td>\n",
       "    </tr>\n",
       "    <tr>\n",
       "      <th>3</th>\n",
       "      <td>4.0</td>\n",
       "      <td>5.0</td>\n",
       "      <td>2.0</td>\n",
       "      <td>2.0</td>\n",
       "      <td>1.0</td>\n",
       "      <td>1.0</td>\n",
       "      <td>2.0</td>\n",
       "      <td>2.0</td>\n",
       "      <td>1.0</td>\n",
       "      <td>2.0</td>\n",
       "      <td>...</td>\n",
       "      <td>94.0</td>\n",
       "      <td>157.0</td>\n",
       "      <td>201.0</td>\n",
       "      <td>491.0</td>\n",
       "      <td>762.0</td>\n",
       "      <td>869.0</td>\n",
       "      <td>1048.0</td>\n",
       "      <td>536.0</td>\n",
       "      <td>NaN</td>\n",
       "      <td>NaN</td>\n",
       "    </tr>\n",
       "    <tr>\n",
       "      <th>4</th>\n",
       "      <td>2.0</td>\n",
       "      <td>2.0</td>\n",
       "      <td>4.0</td>\n",
       "      <td>1.0</td>\n",
       "      <td>2.0</td>\n",
       "      <td>1.0</td>\n",
       "      <td>1.0</td>\n",
       "      <td>1.0</td>\n",
       "      <td>1.0</td>\n",
       "      <td>1.0</td>\n",
       "      <td>...</td>\n",
       "      <td>92.0</td>\n",
       "      <td>152.0</td>\n",
       "      <td>167.0</td>\n",
       "      <td>416.0</td>\n",
       "      <td>672.0</td>\n",
       "      <td>794.0</td>\n",
       "      <td>488.0</td>\n",
       "      <td>NaN</td>\n",
       "      <td>NaN</td>\n",
       "      <td>NaN</td>\n",
       "    </tr>\n",
       "    <tr>\n",
       "      <th>5</th>\n",
       "      <td>2.0</td>\n",
       "      <td>3.0</td>\n",
       "      <td>1.0</td>\n",
       "      <td>2.0</td>\n",
       "      <td>1.0</td>\n",
       "      <td>1.0</td>\n",
       "      <td>1.0</td>\n",
       "      <td>1.0</td>\n",
       "      <td>NaN</td>\n",
       "      <td>1.0</td>\n",
       "      <td>...</td>\n",
       "      <td>111.0</td>\n",
       "      <td>132.0</td>\n",
       "      <td>158.0</td>\n",
       "      <td>368.0</td>\n",
       "      <td>674.0</td>\n",
       "      <td>386.0</td>\n",
       "      <td>NaN</td>\n",
       "      <td>NaN</td>\n",
       "      <td>NaN</td>\n",
       "      <td>NaN</td>\n",
       "    </tr>\n",
       "  </tbody>\n",
       "</table>\n",
       "<p>5 rows × 90 columns</p>\n",
       "</div>"
      ],
      "text/plain": [
       "CohortGroup   2010-04  2010-05  2010-06  2010-07  2010-08  2010-09  2010-10  \\\n",
       "CohortPeriod                                                                  \n",
       "1                34.0     55.0     52.0     49.0     44.0     50.0     26.0   \n",
       "2                 4.0      4.0     10.0      4.0      3.0      2.0      1.0   \n",
       "3                 4.0      5.0      2.0      2.0      1.0      1.0      2.0   \n",
       "4                 2.0      2.0      4.0      1.0      2.0      1.0      1.0   \n",
       "5                 2.0      3.0      1.0      2.0      1.0      1.0      1.0   \n",
       "\n",
       "CohortGroup   2010-11  2010-12  2011-01   ...     2016-12  2017-01  2017-02  \\\n",
       "CohortPeriod                              ...                                 \n",
       "1                13.0     11.0     27.0   ...       421.0    554.0    612.0   \n",
       "2                 1.0      2.0      2.0   ...       114.0    159.0    240.0   \n",
       "3                 2.0      1.0      2.0   ...        94.0    157.0    201.0   \n",
       "4                 1.0      1.0      1.0   ...        92.0    152.0    167.0   \n",
       "5                 1.0      NaN      1.0   ...       111.0    132.0    158.0   \n",
       "\n",
       "CohortGroup   2017-03  2017-04  2017-05  2017-06  2017-07  2017-08  2017-09  \n",
       "CohortPeriod                                                                 \n",
       "1              1483.0   2511.0   3287.0   3794.0   3776.0   4371.0   1171.0  \n",
       "2               621.0    973.0   1208.0   1319.0   1322.0    872.0      NaN  \n",
       "3               491.0    762.0    869.0   1048.0    536.0      NaN      NaN  \n",
       "4               416.0    672.0    794.0    488.0      NaN      NaN      NaN  \n",
       "5               368.0    674.0    386.0      NaN      NaN      NaN      NaN  \n",
       "\n",
       "[5 rows x 90 columns]"
      ]
     },
     "execution_count": 30,
     "metadata": {},
     "output_type": "execute_result"
    }
   ],
   "source": [
    "#unstack\n",
    "cohort['TotalUsers'].unstack(0).head()"
   ]
  },
  {
   "cell_type": "code",
   "execution_count": 31,
   "metadata": {},
   "outputs": [
    {
     "data": {
      "text/html": [
       "<div>\n",
       "<style scoped>\n",
       "    .dataframe tbody tr th:only-of-type {\n",
       "        vertical-align: middle;\n",
       "    }\n",
       "\n",
       "    .dataframe tbody tr th {\n",
       "        vertical-align: top;\n",
       "    }\n",
       "\n",
       "    .dataframe thead th {\n",
       "        text-align: right;\n",
       "    }\n",
       "</style>\n",
       "<table border=\"1\" class=\"dataframe\">\n",
       "  <thead>\n",
       "    <tr style=\"text-align: right;\">\n",
       "      <th>CohortGroup</th>\n",
       "      <th>2010-04</th>\n",
       "      <th>2010-05</th>\n",
       "      <th>2010-06</th>\n",
       "      <th>2010-07</th>\n",
       "      <th>2010-08</th>\n",
       "      <th>2010-09</th>\n",
       "      <th>2010-10</th>\n",
       "      <th>2010-11</th>\n",
       "      <th>2010-12</th>\n",
       "      <th>2011-01</th>\n",
       "      <th>...</th>\n",
       "      <th>2016-12</th>\n",
       "      <th>2017-01</th>\n",
       "      <th>2017-02</th>\n",
       "      <th>2017-03</th>\n",
       "      <th>2017-04</th>\n",
       "      <th>2017-05</th>\n",
       "      <th>2017-06</th>\n",
       "      <th>2017-07</th>\n",
       "      <th>2017-08</th>\n",
       "      <th>2017-09</th>\n",
       "    </tr>\n",
       "    <tr>\n",
       "      <th>CohortPeriod</th>\n",
       "      <th></th>\n",
       "      <th></th>\n",
       "      <th></th>\n",
       "      <th></th>\n",
       "      <th></th>\n",
       "      <th></th>\n",
       "      <th></th>\n",
       "      <th></th>\n",
       "      <th></th>\n",
       "      <th></th>\n",
       "      <th></th>\n",
       "      <th></th>\n",
       "      <th></th>\n",
       "      <th></th>\n",
       "      <th></th>\n",
       "      <th></th>\n",
       "      <th></th>\n",
       "      <th></th>\n",
       "      <th></th>\n",
       "      <th></th>\n",
       "      <th></th>\n",
       "    </tr>\n",
       "  </thead>\n",
       "  <tbody>\n",
       "    <tr>\n",
       "      <th>1</th>\n",
       "      <td>1.000000</td>\n",
       "      <td>1.000000</td>\n",
       "      <td>1.000000</td>\n",
       "      <td>1.000000</td>\n",
       "      <td>1.000000</td>\n",
       "      <td>1.00</td>\n",
       "      <td>1.000000</td>\n",
       "      <td>1.000000</td>\n",
       "      <td>1.000000</td>\n",
       "      <td>1.000000</td>\n",
       "      <td>...</td>\n",
       "      <td>1.000000</td>\n",
       "      <td>1.000000</td>\n",
       "      <td>1.000000</td>\n",
       "      <td>1.000000</td>\n",
       "      <td>1.000000</td>\n",
       "      <td>1.000000</td>\n",
       "      <td>1.000000</td>\n",
       "      <td>1.000000</td>\n",
       "      <td>1.000000</td>\n",
       "      <td>1.0</td>\n",
       "    </tr>\n",
       "    <tr>\n",
       "      <th>2</th>\n",
       "      <td>0.117647</td>\n",
       "      <td>0.072727</td>\n",
       "      <td>0.192308</td>\n",
       "      <td>0.081633</td>\n",
       "      <td>0.068182</td>\n",
       "      <td>0.04</td>\n",
       "      <td>0.038462</td>\n",
       "      <td>0.076923</td>\n",
       "      <td>0.181818</td>\n",
       "      <td>0.074074</td>\n",
       "      <td>...</td>\n",
       "      <td>0.270784</td>\n",
       "      <td>0.287004</td>\n",
       "      <td>0.392157</td>\n",
       "      <td>0.418746</td>\n",
       "      <td>0.387495</td>\n",
       "      <td>0.367508</td>\n",
       "      <td>0.347654</td>\n",
       "      <td>0.350106</td>\n",
       "      <td>0.199497</td>\n",
       "      <td>NaN</td>\n",
       "    </tr>\n",
       "    <tr>\n",
       "      <th>3</th>\n",
       "      <td>0.117647</td>\n",
       "      <td>0.090909</td>\n",
       "      <td>0.038462</td>\n",
       "      <td>0.040816</td>\n",
       "      <td>0.022727</td>\n",
       "      <td>0.02</td>\n",
       "      <td>0.076923</td>\n",
       "      <td>0.153846</td>\n",
       "      <td>0.090909</td>\n",
       "      <td>0.074074</td>\n",
       "      <td>...</td>\n",
       "      <td>0.223278</td>\n",
       "      <td>0.283394</td>\n",
       "      <td>0.328431</td>\n",
       "      <td>0.331086</td>\n",
       "      <td>0.303465</td>\n",
       "      <td>0.264375</td>\n",
       "      <td>0.276226</td>\n",
       "      <td>0.141949</td>\n",
       "      <td>NaN</td>\n",
       "      <td>NaN</td>\n",
       "    </tr>\n",
       "    <tr>\n",
       "      <th>4</th>\n",
       "      <td>0.058824</td>\n",
       "      <td>0.036364</td>\n",
       "      <td>0.076923</td>\n",
       "      <td>0.020408</td>\n",
       "      <td>0.045455</td>\n",
       "      <td>0.02</td>\n",
       "      <td>0.038462</td>\n",
       "      <td>0.076923</td>\n",
       "      <td>0.090909</td>\n",
       "      <td>0.037037</td>\n",
       "      <td>...</td>\n",
       "      <td>0.218527</td>\n",
       "      <td>0.274368</td>\n",
       "      <td>0.272876</td>\n",
       "      <td>0.280512</td>\n",
       "      <td>0.267622</td>\n",
       "      <td>0.241558</td>\n",
       "      <td>0.128624</td>\n",
       "      <td>NaN</td>\n",
       "      <td>NaN</td>\n",
       "      <td>NaN</td>\n",
       "    </tr>\n",
       "    <tr>\n",
       "      <th>5</th>\n",
       "      <td>0.058824</td>\n",
       "      <td>0.054545</td>\n",
       "      <td>0.019231</td>\n",
       "      <td>0.040816</td>\n",
       "      <td>0.022727</td>\n",
       "      <td>0.02</td>\n",
       "      <td>0.038462</td>\n",
       "      <td>0.076923</td>\n",
       "      <td>NaN</td>\n",
       "      <td>0.037037</td>\n",
       "      <td>...</td>\n",
       "      <td>0.263658</td>\n",
       "      <td>0.238267</td>\n",
       "      <td>0.258170</td>\n",
       "      <td>0.248146</td>\n",
       "      <td>0.268419</td>\n",
       "      <td>0.117432</td>\n",
       "      <td>NaN</td>\n",
       "      <td>NaN</td>\n",
       "      <td>NaN</td>\n",
       "      <td>NaN</td>\n",
       "    </tr>\n",
       "    <tr>\n",
       "      <th>6</th>\n",
       "      <td>0.029412</td>\n",
       "      <td>0.018182</td>\n",
       "      <td>0.019231</td>\n",
       "      <td>0.040816</td>\n",
       "      <td>0.068182</td>\n",
       "      <td>0.06</td>\n",
       "      <td>0.076923</td>\n",
       "      <td>0.153846</td>\n",
       "      <td>NaN</td>\n",
       "      <td>0.037037</td>\n",
       "      <td>...</td>\n",
       "      <td>0.213777</td>\n",
       "      <td>0.241877</td>\n",
       "      <td>0.238562</td>\n",
       "      <td>0.265678</td>\n",
       "      <td>0.125050</td>\n",
       "      <td>NaN</td>\n",
       "      <td>NaN</td>\n",
       "      <td>NaN</td>\n",
       "      <td>NaN</td>\n",
       "      <td>NaN</td>\n",
       "    </tr>\n",
       "    <tr>\n",
       "      <th>7</th>\n",
       "      <td>0.058824</td>\n",
       "      <td>0.036364</td>\n",
       "      <td>0.019231</td>\n",
       "      <td>0.020408</td>\n",
       "      <td>0.045455</td>\n",
       "      <td>0.08</td>\n",
       "      <td>0.115385</td>\n",
       "      <td>0.076923</td>\n",
       "      <td>NaN</td>\n",
       "      <td>0.074074</td>\n",
       "      <td>...</td>\n",
       "      <td>0.218527</td>\n",
       "      <td>0.203971</td>\n",
       "      <td>0.240196</td>\n",
       "      <td>0.133513</td>\n",
       "      <td>NaN</td>\n",
       "      <td>NaN</td>\n",
       "      <td>NaN</td>\n",
       "      <td>NaN</td>\n",
       "      <td>NaN</td>\n",
       "      <td>NaN</td>\n",
       "    </tr>\n",
       "    <tr>\n",
       "      <th>8</th>\n",
       "      <td>0.029412</td>\n",
       "      <td>0.090909</td>\n",
       "      <td>0.038462</td>\n",
       "      <td>0.020408</td>\n",
       "      <td>0.068182</td>\n",
       "      <td>0.06</td>\n",
       "      <td>0.038462</td>\n",
       "      <td>0.076923</td>\n",
       "      <td>NaN</td>\n",
       "      <td>0.037037</td>\n",
       "      <td>...</td>\n",
       "      <td>0.190024</td>\n",
       "      <td>0.238267</td>\n",
       "      <td>0.119281</td>\n",
       "      <td>NaN</td>\n",
       "      <td>NaN</td>\n",
       "      <td>NaN</td>\n",
       "      <td>NaN</td>\n",
       "      <td>NaN</td>\n",
       "      <td>NaN</td>\n",
       "      <td>NaN</td>\n",
       "    </tr>\n",
       "    <tr>\n",
       "      <th>9</th>\n",
       "      <td>0.058824</td>\n",
       "      <td>0.036364</td>\n",
       "      <td>0.038462</td>\n",
       "      <td>0.061224</td>\n",
       "      <td>0.022727</td>\n",
       "      <td>0.06</td>\n",
       "      <td>0.038462</td>\n",
       "      <td>0.076923</td>\n",
       "      <td>NaN</td>\n",
       "      <td>0.037037</td>\n",
       "      <td>...</td>\n",
       "      <td>0.230404</td>\n",
       "      <td>0.126354</td>\n",
       "      <td>NaN</td>\n",
       "      <td>NaN</td>\n",
       "      <td>NaN</td>\n",
       "      <td>NaN</td>\n",
       "      <td>NaN</td>\n",
       "      <td>NaN</td>\n",
       "      <td>NaN</td>\n",
       "      <td>NaN</td>\n",
       "    </tr>\n",
       "    <tr>\n",
       "      <th>10</th>\n",
       "      <td>0.029412</td>\n",
       "      <td>0.018182</td>\n",
       "      <td>0.038462</td>\n",
       "      <td>0.040816</td>\n",
       "      <td>0.022727</td>\n",
       "      <td>0.02</td>\n",
       "      <td>0.038462</td>\n",
       "      <td>0.076923</td>\n",
       "      <td>NaN</td>\n",
       "      <td>0.037037</td>\n",
       "      <td>...</td>\n",
       "      <td>0.123515</td>\n",
       "      <td>NaN</td>\n",
       "      <td>NaN</td>\n",
       "      <td>NaN</td>\n",
       "      <td>NaN</td>\n",
       "      <td>NaN</td>\n",
       "      <td>NaN</td>\n",
       "      <td>NaN</td>\n",
       "      <td>NaN</td>\n",
       "      <td>NaN</td>\n",
       "    </tr>\n",
       "  </tbody>\n",
       "</table>\n",
       "<p>10 rows × 90 columns</p>\n",
       "</div>"
      ],
      "text/plain": [
       "CohortGroup    2010-04   2010-05   2010-06   2010-07   2010-08  2010-09  \\\n",
       "CohortPeriod                                                              \n",
       "1             1.000000  1.000000  1.000000  1.000000  1.000000     1.00   \n",
       "2             0.117647  0.072727  0.192308  0.081633  0.068182     0.04   \n",
       "3             0.117647  0.090909  0.038462  0.040816  0.022727     0.02   \n",
       "4             0.058824  0.036364  0.076923  0.020408  0.045455     0.02   \n",
       "5             0.058824  0.054545  0.019231  0.040816  0.022727     0.02   \n",
       "6             0.029412  0.018182  0.019231  0.040816  0.068182     0.06   \n",
       "7             0.058824  0.036364  0.019231  0.020408  0.045455     0.08   \n",
       "8             0.029412  0.090909  0.038462  0.020408  0.068182     0.06   \n",
       "9             0.058824  0.036364  0.038462  0.061224  0.022727     0.06   \n",
       "10            0.029412  0.018182  0.038462  0.040816  0.022727     0.02   \n",
       "\n",
       "CohortGroup    2010-10   2010-11   2010-12   2011-01   ...      2016-12  \\\n",
       "CohortPeriod                                           ...                \n",
       "1             1.000000  1.000000  1.000000  1.000000   ...     1.000000   \n",
       "2             0.038462  0.076923  0.181818  0.074074   ...     0.270784   \n",
       "3             0.076923  0.153846  0.090909  0.074074   ...     0.223278   \n",
       "4             0.038462  0.076923  0.090909  0.037037   ...     0.218527   \n",
       "5             0.038462  0.076923       NaN  0.037037   ...     0.263658   \n",
       "6             0.076923  0.153846       NaN  0.037037   ...     0.213777   \n",
       "7             0.115385  0.076923       NaN  0.074074   ...     0.218527   \n",
       "8             0.038462  0.076923       NaN  0.037037   ...     0.190024   \n",
       "9             0.038462  0.076923       NaN  0.037037   ...     0.230404   \n",
       "10            0.038462  0.076923       NaN  0.037037   ...     0.123515   \n",
       "\n",
       "CohortGroup    2017-01   2017-02   2017-03   2017-04   2017-05   2017-06  \\\n",
       "CohortPeriod                                                               \n",
       "1             1.000000  1.000000  1.000000  1.000000  1.000000  1.000000   \n",
       "2             0.287004  0.392157  0.418746  0.387495  0.367508  0.347654   \n",
       "3             0.283394  0.328431  0.331086  0.303465  0.264375  0.276226   \n",
       "4             0.274368  0.272876  0.280512  0.267622  0.241558  0.128624   \n",
       "5             0.238267  0.258170  0.248146  0.268419  0.117432       NaN   \n",
       "6             0.241877  0.238562  0.265678  0.125050       NaN       NaN   \n",
       "7             0.203971  0.240196  0.133513       NaN       NaN       NaN   \n",
       "8             0.238267  0.119281       NaN       NaN       NaN       NaN   \n",
       "9             0.126354       NaN       NaN       NaN       NaN       NaN   \n",
       "10                 NaN       NaN       NaN       NaN       NaN       NaN   \n",
       "\n",
       "CohortGroup    2017-07   2017-08  2017-09  \n",
       "CohortPeriod                               \n",
       "1             1.000000  1.000000      1.0  \n",
       "2             0.350106  0.199497      NaN  \n",
       "3             0.141949       NaN      NaN  \n",
       "4                  NaN       NaN      NaN  \n",
       "5                  NaN       NaN      NaN  \n",
       "6                  NaN       NaN      NaN  \n",
       "7                  NaN       NaN      NaN  \n",
       "8                  NaN       NaN      NaN  \n",
       "9                  NaN       NaN      NaN  \n",
       "10                 NaN       NaN      NaN  \n",
       "\n",
       "[10 rows x 90 columns]"
      ]
     },
     "execution_count": 31,
     "metadata": {},
     "output_type": "execute_result"
    }
   ],
   "source": [
    "#divide each column with corresponding cohort_group_size.\n",
    "user_retention = cohort['TotalUsers'].unstack(0).divide(cohort_group_size, axis=1)\n",
    "user_retention.head(10)"
   ]
  },
  {
   "cell_type": "markdown",
   "metadata": {},
   "source": [
    "Let's illustrate with an example what this table says : For instance, 26% of users in the 2016-12 used the feature again in month 4 months (in april 2016).Check the crossing between column 2016-12 and index 5.\n",
    "\n",
    "**Let's plot it**"
   ]
  },
  {
   "cell_type": "markdown",
   "metadata": {},
   "source": [
    "The heatmap and line plot below are giving an overall view on the retention rate over time.\n",
    "\n",
    "What we can see: \n",
    "    - the first year cohorts had irregular periods, probably due to some contious enhancement of the feature. \n",
    "    - throughout the cohorts periods and groups we also notice a sesonal event, represented by the dark diagonal shape.It reprsents the lowest retention rates and matches with winter times.\n",
    "    - In overall people reuse indeed the feature, the second graph shows an average rentention close to 20% over the different periods. However it important to note that the lign is pretty steady, the statisfaction level is comparable from a period to another in general. \n",
    "    - Zooming on the heatmap (2nd plot) we can actually see more precised rated. I decided to select the most recent cohorts with 35% retention rate on the second period. Depending on the business goal can be good or not. It's in general good in my opinion. \n",
    "    "
   ]
  },
  {
   "cell_type": "code",
   "execution_count": 32,
   "metadata": {},
   "outputs": [
    {
     "data": {
      "image/png": "[encoded data removed]",
      "text/plain": [
       "<matplotlib.figure.Figure at 0x11f095da0>"
      ]
     },
     "metadata": {},
     "output_type": "display_data"
    }
   ],
   "source": [
    "plt.figure(figsize=(12, 8))\n",
    "plt.title('Cohorts: User Retention')\n",
    "sns.heatmap(user_retention.T, mask=user_retention.T.isnull());"
   ]
  },
  {
   "cell_type": "code",
   "execution_count": 33,
   "metadata": {},
   "outputs": [
    {
     "data": {
      "image/png": "[encoded data removed]",
      "text/plain": [
       "<matplotlib.figure.Figure at 0x131ac1c88>"
      ]
     },
     "metadata": {},
     "output_type": "display_data"
    }
   ],
   "source": [
    "plt.figure(figsize=(12, 8))\n",
    "plt.title('Cohorts: User Retention')\n",
    "sns.heatmap(user_retention.T.iloc[-5:,:6], mask=user_retention.T.iloc[-5:,:6].isnull(), annot=True, fmt='.0%');"
   ]
  },
  {
   "cell_type": "code",
   "execution_count": 34,
   "metadata": {},
   "outputs": [
    {
     "data": {
      "image/png": "[encoded data removed]",
      "text/plain": [
       "<matplotlib.figure.Figure at 0x151cef0f0>"
      ]
     },
     "metadata": {},
     "output_type": "display_data"
    }
   ],
   "source": [
    "user_retention.T.mean().plot(figsize=(11,6), marker='s')\n",
    "plt.title(\"Retention rate (%) per CohortGroup\", fontsize=20, fontweight='bold')\n",
    "ax.set_xlabel(\"CohortPeriod\", fontsize=10)\n",
    "ax.set_ylabel(\"Retention(%)\", fontsize=10)\n",
    "plt.show()"
   ]
  },
  {
   "cell_type": "markdown",
   "metadata": {},
   "source": [
    "**However, I don't forget the question. How is the retention rate accross countries?**\n",
    "\n",
    "I decide to create functions to create the graphs much quicker. Also, because we are dealing with 160 countries, I am going to stick with the top 3 in terms of users. "
   ]
  },
  {
   "cell_type": "code",
   "execution_count": 47,
   "metadata": {},
   "outputs": [
    {
     "data": {
      "text/html": [
       "<div>\n",
       "<style scoped>\n",
       "    .dataframe tbody tr th:only-of-type {\n",
       "        vertical-align: middle;\n",
       "    }\n",
       "\n",
       "    .dataframe tbody tr th {\n",
       "        vertical-align: top;\n",
       "    }\n",
       "\n",
       "    .dataframe thead th {\n",
       "        text-align: right;\n",
       "    }\n",
       "</style>\n",
       "<table border=\"1\" class=\"dataframe\">\n",
       "  <thead>\n",
       "    <tr style=\"text-align: right;\">\n",
       "      <th></th>\n",
       "      <th></th>\n",
       "      <th></th>\n",
       "      <th>TotalUsers</th>\n",
       "      <th>CohortPeriod</th>\n",
       "    </tr>\n",
       "    <tr>\n",
       "      <th>CohortGroup</th>\n",
       "      <th>date</th>\n",
       "      <th>country</th>\n",
       "      <th></th>\n",
       "      <th></th>\n",
       "    </tr>\n",
       "  </thead>\n",
       "  <tbody>\n",
       "    <tr>\n",
       "      <th rowspan=\"5\" valign=\"top\">2010-04</th>\n",
       "      <th rowspan=\"5\" valign=\"top\">2010-04</th>\n",
       "      <th>Austria</th>\n",
       "      <td>31</td>\n",
       "      <td>1</td>\n",
       "    </tr>\n",
       "    <tr>\n",
       "      <th>Bhutan</th>\n",
       "      <td>1</td>\n",
       "      <td>1</td>\n",
       "    </tr>\n",
       "    <tr>\n",
       "      <th>Germany</th>\n",
       "      <td>14</td>\n",
       "      <td>1</td>\n",
       "    </tr>\n",
       "    <tr>\n",
       "      <th>Luxembourg</th>\n",
       "      <td>1</td>\n",
       "      <td>1</td>\n",
       "    </tr>\n",
       "    <tr>\n",
       "      <th>United Kingdom of Great Britain and Northern Ireland</th>\n",
       "      <td>1</td>\n",
       "      <td>1</td>\n",
       "    </tr>\n",
       "  </tbody>\n",
       "</table>\n",
       "</div>"
      ],
      "text/plain": [
       "                                                                        TotalUsers  \\\n",
       "CohortGroup date    country                                                          \n",
       "2010-04     2010-04 Austria                                                     31   \n",
       "                    Bhutan                                                       1   \n",
       "                    Germany                                                     14   \n",
       "                    Luxembourg                                                   1   \n",
       "                    United Kingdom of Great Britain and Northern Ir...           1   \n",
       "\n",
       "                                                                        CohortPeriod  \n",
       "CohortGroup date    country                                                           \n",
       "2010-04     2010-04 Austria                                                        1  \n",
       "                    Bhutan                                                         1  \n",
       "                    Germany                                                        1  \n",
       "                    Luxembourg                                                     1  \n",
       "                    United Kingdom of Great Britain and Northern Ir...             1  "
      ]
     },
     "execution_count": 47,
     "metadata": {},
     "output_type": "execute_result"
    }
   ],
   "source": [
    "#create the cohort table with the country variable added\n",
    "grouped = dz.groupby(['CohortGroup', 'date','country'])\n",
    "grouped_1=grouped\n",
    "# count the unique users, per Group + Period\n",
    "cohorts= grouped.agg({'user': pd.Series.nunique})\n",
    "\n",
    "# make the column names more meaningful\n",
    "cohorts.rename(columns={'user': 'TotalUsers'}, inplace=True)\n",
    "cohorts = cohorts.groupby(['CohortGroup','country']).apply(cohort_period)\n",
    "cohorts.head()"
   ]
  },
  {
   "cell_type": "code",
   "execution_count": 52,
   "metadata": {},
   "outputs": [],
   "source": [
    " def retentionbycountryheat (df,country_name,newtablename =\"hey\"):\n",
    "        \"\"\"\n",
    "        Creates an country specific retention rate heatmap\n",
    "\n",
    "        \"\"\"\n",
    "        newtablename = df.xs(country_name,level='country')\n",
    "        # reindex the DataFrame\n",
    "        newtablename.reset_index(inplace=True)\n",
    "        newtablename.set_index(['CohortGroup', 'CohortPeriod'], inplace=True)\n",
    "        # create a Series holding the total size of each CohortGroup\n",
    "        cohort_group_size = newtablename['TotalUsers'].groupby(['CohortGroup']).first()\n",
    "        newtablename['TotalUsers'].unstack(0)\n",
    "        newtablename  = newtablename['TotalUsers'].unstack(0).divide(cohort_group_size, axis=1)\n",
    "        fig, ax = plt.subplots(figsize=(11,6))   \n",
    "        sns.heatmap(newtablename.T, mask=newtablename.T.isnull())\n",
    "        #newtablename.T.mean().plot(figsize=(11,6), marker='s')\n",
    "        plt.title(\"Retention rate (%) \"+ country_name + \" per CohortGroup\", fontsize=10, fontweight='bold')\n",
    "        #plt.set_xlabel(\"CohortPeriod\", fontsize=10)\n",
    "        #plt.set_ylabel(\"Retention(%)\", fontsize=10)\n",
    "        plt.show()"
   ]
  },
  {
   "cell_type": "code",
   "execution_count": 53,
   "metadata": {},
   "outputs": [],
   "source": [
    " def retentionbycountry (df,country_name,newtablename =\"hey\"):\n",
    "        \"\"\"\n",
    "        Creates an country specific retention line plot: average retention rate troughtout periods.\n",
    "\n",
    "        \"\"\"\n",
    "        newtablename = df.xs(country_name,level='country')\n",
    "        # reindex the DataFrame\n",
    "        newtablename.reset_index(inplace=True)\n",
    "        newtablename.set_index(['CohortGroup', 'CohortPeriod'], inplace=True)\n",
    "        # create a Series holding the total size of each CohortGroup\n",
    "        cohort_group_size = newtablename['TotalUsers'].groupby(['CohortGroup']).first()\n",
    "        newtablename['TotalUsers'].unstack(0)\n",
    "        newtablename  = newtablename['TotalUsers'].unstack(0).divide(cohort_group_size, axis=1)\n",
    "        #sns.heatmap(newtablename.T, mask=newtablename.T.isnull())\n",
    "        newtablename.T.mean().plot(figsize=(11,6), marker='s')\n",
    "        plt.title(\"Retention rate (%) \"+ country_name + \" per CohortGroup\", fontsize=10, fontweight='bold')\n",
    "        #plt.set_xlabel(\"CohortPeriod\", fontsize=10)\n",
    "        #plt.set_ylabel(\"Retention(%)\", fontsize=10)\n",
    "        plt.show()\n",
    " "
   ]
  },
  {
   "cell_type": "markdown",
   "metadata": {},
   "source": [
    "**Print the data visualization by country**\n",
    "\n",
    "Before to start, it's important to mention that this cohort analysis is based on users having the same starting date using the feature but also the location they have been to.\n",
    "\n",
    "The issue here is that people don't nessarly stick to one country, there go in average in 1.3 locations. \n",
    "So in each group we will have people who started the journey at the same date but could have changed location overtime. \n",
    "\n",
    "That's why we note retention rates higher than 100%, because sometimes a specific periods gathers more people than the first initial period for a specifc cohort. \n",
    "\n",
    "The ideal cohort analysis should have been made would be to cluster people in terms of starting date and country they went to and at the same period. \n",
    "To have cleaner cluster could be an option but won't represent the reality, because people sticking to the feature and using in a different location than the country they started the jouney from won\"t be taken into account.\n",
    "\n",
    "For this project I am going to stick to the date as the main based and country at a specific period.\n",
    "\n",
    "**.- - - - - - - .**"
   ]
  },
  {
   "cell_type": "markdown",
   "metadata": {},
   "source": [
    "As seen Germany is the first destination is then not surprising that the graphs below are similar to the overall picture of the retention rates over time seen previously. Howvever with this graph below we see an important drop in retention rate after the 70's period, this drop is due to the small amount of data we have for this last periods. Indeed, most of the cohort groups haven't reach this number of months since there registration.\n",
    "\n",
    "Looking at the heatmap we can see that the colors (retention rates) are not different from the other cohorts at comparable periods (1 to 5 for example). "
   ]
  },
  {
   "cell_type": "code",
   "execution_count": 55,
   "metadata": {},
   "outputs": [
    {
     "data": {
      "image/png": "[encoded data removed]",
      "text/plain": [
       "<matplotlib.figure.Figure at 0x151cf8e48>"
      ]
     },
     "metadata": {},
     "output_type": "display_data"
    },
    {
     "data": {
      "image/png": "[encoded data removed]",
      "text/plain": [
       "<matplotlib.figure.Figure at 0x11f0cee10>"
      ]
     },
     "metadata": {},
     "output_type": "display_data"
    }
   ],
   "source": [
    "retentionbycountry(cohorts,'Germany')\n",
    "retentionbycountryheat(cohorts, 'Germany')"
   ]
  },
  {
   "cell_type": "markdown",
   "metadata": {},
   "source": [
    "In Austria, since the period 45 the retention rate is really changing, different from the steady line obeserved in germany. My assuming is that austria is a bit dependant on germany. Germany being the first distination where the feature is used. I guess Austria's reselys are linked to the vague of people moving from a place to another.\n",
    "Let's verify this!\n",
    "\n",
    "**From these people who used the tool in austria how many used it in germany too?** "
   ]
  },
  {
   "cell_type": "code",
   "execution_count": 78,
   "metadata": {},
   "outputs": [
    {
     "name": "stdout",
     "output_type": "stream",
     "text": [
      "Austria has 6717 users\n",
      "Germany has 50458 users\n"
     ]
    }
   ],
   "source": [
    "AT = pd.DataFrame(dz[dz['country']=='Austria']['user'].drop_duplicates())\n",
    "DE = pd.DataFrame(dz[dz['country']=='Germany']['user'].drop_duplicates())\n",
    "\n",
    "print('Austria has ' + str(len(AT))+ ' users')\n",
    "print('Germany has ' + str(len(DE))+ ' users')"
   ]
  },
  {
   "cell_type": "code",
   "execution_count": 104,
   "metadata": {},
   "outputs": [
    {
     "name": "stdout",
     "output_type": "stream",
     "text": [
      "Exactly 4121 been in Austria and also in Germany!\n",
      "Which representing 61.35%\n"
     ]
    }
   ],
   "source": [
    "print('Exactly ' + str(len(pd.merge(AT,DE, on='user', how='inner'))) + ' been in Austria and also in Germany!')\n",
    "per = round((len(pd.merge(AT,DE, on='user', how='inner'))/len(AT))*100,2)\n",
    "print( 'Which representing ' + str(per) + '%' )"
   ]
  },
  {
   "cell_type": "markdown",
   "metadata": {},
   "source": [
    "That's an important portion, an explain have this more varied retention rate compared to germany. If the businss can grow an audience in aria as well the movement will be compensated. "
   ]
  },
  {
   "cell_type": "code",
   "execution_count": 56,
   "metadata": {},
   "outputs": [
    {
     "data": {
      "image/png": "[encoded data removed]",
      "text/plain": [
       "<matplotlib.figure.Figure at 0x13e326390>"
      ]
     },
     "metadata": {},
     "output_type": "display_data"
    },
    {
     "data": {
      "image/png": "[encoded data removed]",
      "text/plain": [
       "<matplotlib.figure.Figure at 0x1357dd588>"
      ]
     },
     "metadata": {},
     "output_type": "display_data"
    }
   ],
   "source": [
    "retentionbycountry(cohorts, 'Austria')\n",
    "retentionbycountryheat(cohorts, 'Austria')"
   ]
  },
  {
   "cell_type": "markdown",
   "metadata": {},
   "source": [
    "In Italy, we can see that the retention is actually eceeding the 100% that actually means that much more people actually use the feature in Italy that the initial number of user in the first period of the cohort but used the feature before in another country!\n",
    "\n",
    "The ligh color in the heatmap shows the cohorts in question. "
   ]
  },
  {
   "cell_type": "code",
   "execution_count": 57,
   "metadata": {},
   "outputs": [
    {
     "data": {
      "image/png": "[encoded data removed]",
      "text/plain": [
       "<matplotlib.figure.Figure at 0x135c5fe10>"
      ]
     },
     "metadata": {},
     "output_type": "display_data"
    },
    {
     "data": {
      "image/png": "[encoded data removed]",
      "text/plain": [
       "<matplotlib.figure.Figure at 0x1357cccc0>"
      ]
     },
     "metadata": {},
     "output_type": "display_data"
    }
   ],
   "source": [
    "retentionbycountry(cohorts, 'Italy')\n",
    "retentionbycountryheat(cohorts, 'Italy')"
   ]
  },
  {
   "cell_type": "markdown",
   "metadata": {},
   "source": [
    "**Conclusion**"
   ]
  },
  {
   "cell_type": "markdown",
   "metadata": {},
   "source": [
    "To conclude, the feature overtime is appreciated, results depending a lot on the destination we can easily zoom on some facts, such as that the last periods were less performing in terms of retention rate due to the lack of data only. \n",
    "\n",
    "The result overtime is varying for the first cohorts,we we see empty gaps in the heatmaps, the disapears over time, you managed to stabilised the retention rate. If the goal is to improve it, i suggest to continue testing new incorporating new element in the feature to improve its offer to the audience. \n",
    "\n",
    "The results is indeed different from a country to another, however other countries such as Austria or Italy are more seen as hosting countries for the moment having a small user base were the retention rate is high at some periods. These high retention rates are noticible because from a specific 1st of registration , people used the feature in different locations.\n",
    "\n",
    "We also notice the impact on the months on the retention rate, people joining in cold times from october then to stop using the tool in this specific location after 6 to 7 months.\n",
    "\n",
    "To compare from a country to another I am creating below the average periods per cohort in each country.\n",
    "The use the of feature in german in in average longer than in other countries top 3 countries. "
   ]
  },
  {
   "cell_type": "code",
   "execution_count": 137,
   "metadata": {},
   "outputs": [],
   "source": [
    "def averageperiod (country_name):\n",
    "    print('The average number of period by cohorot in ' +country_name +' is : ' + str(cohorts.xs(country_name,level='country').reset_index().groupby(['CohortGroup'],sort=False)['CohortPeriod'].max().mean()))\n",
    "    "
   ]
  },
  {
   "cell_type": "code",
   "execution_count": 138,
   "metadata": {},
   "outputs": [
    {
     "name": "stdout",
     "output_type": "stream",
     "text": [
      "The average number of period by cohorot in Austria is : 23.522222222222222\n",
      "The average number of period by cohorot in Germany is : 38.68888888888889\n",
      "The average number of period by cohorot in Italy is : 18.443181818181817\n"
     ]
    }
   ],
   "source": [
    "averageperiod('Austria')\n",
    "averageperiod('Germany')\n",
    "averageperiod('Italy')"
   ]
  },
  {
   "cell_type": "markdown",
   "metadata": {},
   "source": [
    "**Thanks for reading!**\n",
    "\n",
    "Best\n",
    "\n",
    "Bamby"
   ]
  }
 ],
 "metadata": {
  "kernelspec": {
   "display_name": "Python 3",
   "language": "python",
   "name": "python3"
  },
  "language_info": {
   "codemirror_mode": {
    "name": "ipython",
    "version": 3
   },
   "file_extension": ".py",
   "mimetype": "text/x-python",
   "name": "python",
   "nbconvert_exporter": "python",
   "pygments_lexer": "ipython3",
   "version": "3.6.4"
  }
 },
 "nbformat": 4,
 "nbformat_minor": 2
}
